{
 "cells": [
  {
   "cell_type": "markdown",
   "id": "065bc3dc-6d9b-44ed-9642-f7685dfa8a4f",
   "metadata": {},
   "source": [
    "# Predicting Powerful tweets: classifying tweets from politicians and citizens."
   ]
  },
  {
   "cell_type": "markdown",
   "id": "92cde68b-a9a6-4c6b-936d-13982f638ec5",
   "metadata": {},
   "source": [
    "### Load packages"
   ]
  },
  {
   "cell_type": "code",
   "execution_count": 212,
   "id": "b227c0fc-ea28-493d-990b-3468d229b401",
   "metadata": {},
   "outputs": [],
   "source": [
    "import pandas as pd\n",
    "import json\n",
    "import numpy as np\n",
    "import re\n",
    "import os\n",
    "\n",
    "from langchain_openai import ChatOpenAI  # Updated import for ChatOpenAI\n",
    "from langchain.prompts import ChatPromptTemplate, HumanMessagePromptTemplate, SystemMessagePromptTemplate\n",
    "\n",
    "# Initialize the chat-based model\n",
    "\n",
    "from sentence_transformers import SentenceTransformer\n",
    "\n",
    "from sklearn.decomposition import PCA\n",
    "from sklearn.manifold import TSNE\n",
    "import umap\n",
    "\n",
    "from sklearn.model_selection import train_test_split\n",
    "\n",
    "from sklearn.metrics import classification_report, accuracy_score, confusion_matrix\n",
    "from sklearn.metrics import roc_auc_score, roc_curve\n",
    "from sklearn.model_selection import cross_val_score\n",
    "from sklearn.metrics.pairwise import cosine_similarity\n",
    "from sklearn.feature_extraction.text import CountVectorizer\n",
    "from sklearn.metrics import ConfusionMatrixDisplay\n",
    "\n",
    "from sklearn.ensemble import RandomForestClassifier\n",
    "from sklearn.linear_model import LogisticRegression\n",
    "from sklearn.svm import SVC\n",
    "from sklearn.neighbors import KNeighborsClassifier\n",
    "from sklearn.ensemble import GradientBoostingClassifier, RandomForestClassifier\n",
    "from sklearn.metrics import classification_report, accuracy_score\n",
    "\n",
    "from sklearn.model_selection import GridSearchCV\n",
    "\n",
    "from bertopic import BERTopic\n",
    "\n",
    "import matplotlib.pyplot as plt\n",
    "import seaborn as sns"
   ]
  },
  {
   "cell_type": "code",
   "execution_count": 213,
   "id": "81b591f8-6bcb-461e-99c3-288ecc610892",
   "metadata": {},
   "outputs": [],
   "source": [
    "# Set OpenAI API Key\n",
    "os.environ[\"OPENAI_API_KEY\"] = \"\"  # Replace with your actual API key\n"
   ]
  },
  {
   "cell_type": "markdown",
   "id": "1ec6efe7-4248-436e-bafe-3933f80b5626",
   "metadata": {},
   "source": [
    "### Load political tweets dataset (international)"
   ]
  },
  {
   "cell_type": "code",
   "execution_count": 214,
   "id": "8b7c6919-9e8b-47b5-aef9-40727aa04d5f",
   "metadata": {},
   "outputs": [
    {
     "name": "stderr",
     "output_type": "stream",
     "text": [
      "C:\\Users\\cedga\\AppData\\Local\\Temp\\ipykernel_26036\\1927738698.py:1: DtypeWarning:\n",
      "\n",
      "Columns (12) have mixed types. Specify dtype option on import or set low_memory=False.\n",
      "\n"
     ]
    }
   ],
   "source": [
    "global_tweets_df = pd.read_csv(\"Political_tweets.csv\")"
   ]
  },
  {
   "cell_type": "code",
   "execution_count": 215,
   "id": "d7c56996-b2fa-475f-98c3-245b4c4b81ad",
   "metadata": {},
   "outputs": [
    {
     "data": {
      "text/html": [
       "<div>\n",
       "<style scoped>\n",
       "    .dataframe tbody tr th:only-of-type {\n",
       "        vertical-align: middle;\n",
       "    }\n",
       "\n",
       "    .dataframe tbody tr th {\n",
       "        vertical-align: top;\n",
       "    }\n",
       "\n",
       "    .dataframe thead th {\n",
       "        text-align: right;\n",
       "    }\n",
       "</style>\n",
       "<table border=\"1\" class=\"dataframe\">\n",
       "  <thead>\n",
       "    <tr style=\"text-align: right;\">\n",
       "      <th></th>\n",
       "      <th>user_name</th>\n",
       "      <th>user_location</th>\n",
       "      <th>user_description</th>\n",
       "      <th>user_created</th>\n",
       "      <th>user_followers</th>\n",
       "      <th>user_friends</th>\n",
       "      <th>user_favourites</th>\n",
       "      <th>user_verified</th>\n",
       "      <th>date</th>\n",
       "      <th>text</th>\n",
       "      <th>hashtags</th>\n",
       "      <th>source</th>\n",
       "      <th>is_retweet</th>\n",
       "    </tr>\n",
       "  </thead>\n",
       "  <tbody>\n",
       "    <tr>\n",
       "      <th>0</th>\n",
       "      <td>CPA Jim 2021</td>\n",
       "      <td>NaN</td>\n",
       "      <td>Grandparents enslaved by CCP since 1949 were b...</td>\n",
       "      <td>2011-03-17 10:17:36</td>\n",
       "      <td>711.0</td>\n",
       "      <td>146.0</td>\n",
       "      <td>1160.0</td>\n",
       "      <td>False</td>\n",
       "      <td>2021-07-30 23:57:05</td>\n",
       "      <td>US says seizes tanker used to evade North Kore...</td>\n",
       "      <td>['politics', 'feedly']</td>\n",
       "      <td>Twitter Web App</td>\n",
       "      <td>False</td>\n",
       "    </tr>\n",
       "    <tr>\n",
       "      <th>1</th>\n",
       "      <td>Joint Minds</td>\n",
       "      <td>NaN</td>\n",
       "      <td>Joint Minds Podcast</td>\n",
       "      <td>2021-01-23 23:57:27</td>\n",
       "      <td>3.0</td>\n",
       "      <td>3.0</td>\n",
       "      <td>1.0</td>\n",
       "      <td>False</td>\n",
       "      <td>2021-07-30 23:53:21</td>\n",
       "      <td>Is America the greatest country? Part 1 drops ...</td>\n",
       "      <td>['america', 'jointminds', 'politics', 'democra...</td>\n",
       "      <td>Twitter for iPhone</td>\n",
       "      <td>False</td>\n",
       "    </tr>\n",
       "    <tr>\n",
       "      <th>2</th>\n",
       "      <td>Sociafy</td>\n",
       "      <td>USA</td>\n",
       "      <td>Sociafy is an influencer-based content discove...</td>\n",
       "      <td>2011-09-30 05:59:06</td>\n",
       "      <td>36219.0</td>\n",
       "      <td>181.0</td>\n",
       "      <td>930.0</td>\n",
       "      <td>False</td>\n",
       "      <td>2021-07-30 23:53:03</td>\n",
       "      <td>O’Reilly predicts THIS is What DOOMS Biden’s r...</td>\n",
       "      <td>['politics', 'videos']</td>\n",
       "      <td>Buffer</td>\n",
       "      <td>False</td>\n",
       "    </tr>\n",
       "    <tr>\n",
       "      <th>3</th>\n",
       "      <td>🟣 Discussions.app</td>\n",
       "      <td>United States</td>\n",
       "      <td>Home of Crypto Communities. $ATMOS \\n\\nhttps:/...</td>\n",
       "      <td>2017-02-09 23:15:24</td>\n",
       "      <td>2426.0</td>\n",
       "      <td>1104.0</td>\n",
       "      <td>8173.0</td>\n",
       "      <td>False</td>\n",
       "      <td>2021-07-30 23:51:00</td>\n",
       "      <td>Corruption in Politics\\n#blog #politics \\nhttp...</td>\n",
       "      <td>['blog', 'politics']</td>\n",
       "      <td>TweetDeck</td>\n",
       "      <td>False</td>\n",
       "    </tr>\n",
       "    <tr>\n",
       "      <th>4</th>\n",
       "      <td>Ground News</td>\n",
       "      <td>Kitchener, ON</td>\n",
       "      <td>The world's first news source comparison platf...</td>\n",
       "      <td>2018-02-08 22:00:16</td>\n",
       "      <td>13763.0</td>\n",
       "      <td>1224.0</td>\n",
       "      <td>2033.0</td>\n",
       "      <td>False</td>\n",
       "      <td>2021-07-30 23:50:53</td>\n",
       "      <td>@kylegriffin1 Are you getting all the info on ...</td>\n",
       "      <td>['EvictionMoratorium', 'Congress', 'NancyPelos...</td>\n",
       "      <td>GroundNews</td>\n",
       "      <td>False</td>\n",
       "    </tr>\n",
       "    <tr>\n",
       "      <th>5</th>\n",
       "      <td>Mike Staub</td>\n",
       "      <td>San Francisco, CA</td>\n",
       "      <td>Developer, Artist, Investor, Entrepreneur, Eff...</td>\n",
       "      <td>2009-07-09 04:07:49</td>\n",
       "      <td>495.0</td>\n",
       "      <td>2681.0</td>\n",
       "      <td>6930.0</td>\n",
       "      <td>False</td>\n",
       "      <td>2021-07-30 23:50:15</td>\n",
       "      <td>90% of US drone strikes kill civilians. An ope...</td>\n",
       "      <td>['politics', 'justice', 'war']</td>\n",
       "      <td>Twitter Web App</td>\n",
       "      <td>False</td>\n",
       "    </tr>\n",
       "    <tr>\n",
       "      <th>6</th>\n",
       "      <td>Bingxo News</td>\n",
       "      <td>United States</td>\n",
       "      <td>Comprehensive, up-to-date news coverage, aggre...</td>\n",
       "      <td>2017-07-24 07:39:02</td>\n",
       "      <td>340.0</td>\n",
       "      <td>114.0</td>\n",
       "      <td>1.0</td>\n",
       "      <td>False</td>\n",
       "      <td>2021-07-30 23:49:09</td>\n",
       "      <td>100,000-Year-Old Fossil of Largest-Ever Vampir...</td>\n",
       "      <td>['news', 'covid', 'usa', 'canada', 'uk', 'inst...</td>\n",
       "      <td>IFTTT</td>\n",
       "      <td>False</td>\n",
       "    </tr>\n",
       "    <tr>\n",
       "      <th>7</th>\n",
       "      <td>joshua epstein🏳️‍🌈🖖🏼🗽👨🏼‍💻🇺🇸</td>\n",
       "      <td>new york city</td>\n",
       "      <td>Gay Progressive Patriot. #NYC's the greatest c...</td>\n",
       "      <td>2008-06-20 18:32:27</td>\n",
       "      <td>6451.0</td>\n",
       "      <td>2806.0</td>\n",
       "      <td>4257.0</td>\n",
       "      <td>False</td>\n",
       "      <td>2021-07-30 23:49:03</td>\n",
       "      <td>Via @RawStory: 'People will die': Congress bla...</td>\n",
       "      <td>['politics', 'trump', 'corruption']</td>\n",
       "      <td>dlvr.it</td>\n",
       "      <td>False</td>\n",
       "    </tr>\n",
       "    <tr>\n",
       "      <th>8</th>\n",
       "      <td>tweetbud</td>\n",
       "      <td>GOD BLESS AMERICA</td>\n",
       "      <td>sick of politicians games</td>\n",
       "      <td>2010-04-27 03:07:03</td>\n",
       "      <td>368.0</td>\n",
       "      <td>378.0</td>\n",
       "      <td>28408.0</td>\n",
       "      <td>False</td>\n",
       "      <td>2021-07-30 23:47:23</td>\n",
       "      <td>😮👇 gave me a lesson on the percentage of #vote...</td>\n",
       "      <td>['voters', 'Texas', 'Politics']</td>\n",
       "      <td>Twitter for Android</td>\n",
       "      <td>False</td>\n",
       "    </tr>\n",
       "    <tr>\n",
       "      <th>9</th>\n",
       "      <td>Chris Eastaughffe (AZ Vac done)</td>\n",
       "      <td>Queensland, Australia.</td>\n",
       "      <td>Company Director, Investigator, Author.  Exper...</td>\n",
       "      <td>2013-05-08 02:16:00</td>\n",
       "      <td>275.0</td>\n",
       "      <td>70.0</td>\n",
       "      <td>8411.0</td>\n",
       "      <td>False</td>\n",
       "      <td>2021-07-30 23:46:56</td>\n",
       "      <td>Please watch... the #US and #UK actually ran t...</td>\n",
       "      <td>['US', 'UK', 'Chinese', 'CCP', 'debt', 'politi...</td>\n",
       "      <td>Twitter Web App</td>\n",
       "      <td>False</td>\n",
       "    </tr>\n",
       "    <tr>\n",
       "      <th>10</th>\n",
       "      <td>Project Sociafy</td>\n",
       "      <td>USA</td>\n",
       "      <td>Sociafy is an influencer-based content discove...</td>\n",
       "      <td>2015-09-27 01:58:39</td>\n",
       "      <td>21134.0</td>\n",
       "      <td>123.0</td>\n",
       "      <td>797.0</td>\n",
       "      <td>False</td>\n",
       "      <td>2021-07-30 23:45:00</td>\n",
       "      <td>LEAKED Slides From the CDC Reveal Lockdowns Ar...</td>\n",
       "      <td>['politics', 'videos']</td>\n",
       "      <td>Buffer</td>\n",
       "      <td>False</td>\n",
       "    </tr>\n",
       "    <tr>\n",
       "      <th>11</th>\n",
       "      <td>Dave Robbins</td>\n",
       "      <td>Madison, WI</td>\n",
       "      <td>Enthusiast: #Art #Books #Coffee #Cycling #Desi...</td>\n",
       "      <td>2010-07-10 19:47:00</td>\n",
       "      <td>819.0</td>\n",
       "      <td>1775.0</td>\n",
       "      <td>11721.0</td>\n",
       "      <td>False</td>\n",
       "      <td>2021-07-30 23:41:10</td>\n",
       "      <td>Things are not going to end well for Trump or ...</td>\n",
       "      <td>['Politics']</td>\n",
       "      <td>Twitter Web App</td>\n",
       "      <td>False</td>\n",
       "    </tr>\n",
       "    <tr>\n",
       "      <th>12</th>\n",
       "      <td>Politics_Made_Simple(YT)</td>\n",
       "      <td>Chicago, IL</td>\n",
       "      <td>Backup for @PMS_YT 👋 History / Politics fan sm...</td>\n",
       "      <td>2020-12-30 14:49:59</td>\n",
       "      <td>34.0</td>\n",
       "      <td>43.0</td>\n",
       "      <td>42.0</td>\n",
       "      <td>False</td>\n",
       "      <td>2021-07-30 23:41:08</td>\n",
       "      <td>New video! Election Night 2024 Trump vs Biden ...</td>\n",
       "      <td>['ElectionNight', 'ElectionPrediction', '2024E...</td>\n",
       "      <td>Twitter for iPhone</td>\n",
       "      <td>False</td>\n",
       "    </tr>\n",
       "    <tr>\n",
       "      <th>13</th>\n",
       "      <td>Liberal Forum</td>\n",
       "      <td>United States of America</td>\n",
       "      <td>Liberal Forum - America's #Political Chat Room...</td>\n",
       "      <td>2013-12-18 19:24:18</td>\n",
       "      <td>535.0</td>\n",
       "      <td>1114.0</td>\n",
       "      <td>7.0</td>\n",
       "      <td>False</td>\n",
       "      <td>2021-07-30 23:40:33</td>\n",
       "      <td>The White Godess.... #politics  https://t.co/H...</td>\n",
       "      <td>['politics']</td>\n",
       "      <td>Liberal Forum Political Chat</td>\n",
       "      <td>False</td>\n",
       "    </tr>\n",
       "    <tr>\n",
       "      <th>14</th>\n",
       "      <td>MMNewzz</td>\n",
       "      <td>United States</td>\n",
       "      <td>News, politics, science, technology.\\nUse your...</td>\n",
       "      <td>2011-07-15 17:06:07</td>\n",
       "      <td>7018.0</td>\n",
       "      <td>6642.0</td>\n",
       "      <td>36109.0</td>\n",
       "      <td>False</td>\n",
       "      <td>2021-07-30 23:38:17</td>\n",
       "      <td>The Real Reason Democrats Can’t Stop Talking A...</td>\n",
       "      <td>['politics', 'opinion']</td>\n",
       "      <td>Twibble.io</td>\n",
       "      <td>False</td>\n",
       "    </tr>\n",
       "    <tr>\n",
       "      <th>15</th>\n",
       "      <td>America Going, Going...</td>\n",
       "      <td>Fargo (ND) - Proudly!</td>\n",
       "      <td>\"America Going, Going...\" - The decline of Ame...</td>\n",
       "      <td>2019-03-03 18:42:47</td>\n",
       "      <td>16.0</td>\n",
       "      <td>12.0</td>\n",
       "      <td>8.0</td>\n",
       "      <td>False</td>\n",
       "      <td>2021-07-30 23:38:07</td>\n",
       "      <td>This story started with \"AMERICA Going, Going....</td>\n",
       "      <td>['AmericaStillGoing', 'DavidRBailly', 'Politic...</td>\n",
       "      <td>SocialPilot.co</td>\n",
       "      <td>False</td>\n",
       "    </tr>\n",
       "    <tr>\n",
       "      <th>16</th>\n",
       "      <td>Tatiana McArthur</td>\n",
       "      <td>NaN</td>\n",
       "      <td>Delightfully quirky / Traveller  / Runner / Tr...</td>\n",
       "      <td>2012-02-07 23:16:57</td>\n",
       "      <td>318.0</td>\n",
       "      <td>378.0</td>\n",
       "      <td>544.0</td>\n",
       "      <td>False</td>\n",
       "      <td>2021-07-30 23:36:21</td>\n",
       "      <td>It's almost here! \\n#WritingCommunity #writers...</td>\n",
       "      <td>['WritingCommunity', 'writerslife', 'firsttime...</td>\n",
       "      <td>Twitter for Android</td>\n",
       "      <td>False</td>\n",
       "    </tr>\n",
       "    <tr>\n",
       "      <th>17</th>\n",
       "      <td>London Center for Policy Research</td>\n",
       "      <td>New York, USA</td>\n",
       "      <td>Challenging conventional wisdom, adding textur...</td>\n",
       "      <td>2013-04-05 19:10:27</td>\n",
       "      <td>2774.0</td>\n",
       "      <td>1080.0</td>\n",
       "      <td>998.0</td>\n",
       "      <td>False</td>\n",
       "      <td>2021-07-30 23:35:02</td>\n",
       "      <td>New Article from @TheLCPR  Director Ambassador...</td>\n",
       "      <td>['Washington', 'bureaucrats', 'powergrid', 'en...</td>\n",
       "      <td>MeetEdgar</td>\n",
       "      <td>False</td>\n",
       "    </tr>\n",
       "    <tr>\n",
       "      <th>18</th>\n",
       "      <td>Jack</td>\n",
       "      <td>NaN</td>\n",
       "      <td>NaN</td>\n",
       "      <td>2020-03-23 20:23:47</td>\n",
       "      <td>0.0</td>\n",
       "      <td>23.0</td>\n",
       "      <td>157.0</td>\n",
       "      <td>False</td>\n",
       "      <td>2021-07-30 23:34:43</td>\n",
       "      <td>We live in the age of politics where people ca...</td>\n",
       "      <td>['Politics']</td>\n",
       "      <td>Twitter for iPhone</td>\n",
       "      <td>False</td>\n",
       "    </tr>\n",
       "    <tr>\n",
       "      <th>19</th>\n",
       "      <td>Upcoming News</td>\n",
       "      <td>India</td>\n",
       "      <td>This account is provide upcoming news,and tren...</td>\n",
       "      <td>2020-10-22 08:59:10</td>\n",
       "      <td>40.0</td>\n",
       "      <td>275.0</td>\n",
       "      <td>132.0</td>\n",
       "      <td>False</td>\n",
       "      <td>2021-07-30 23:34:07</td>\n",
       "      <td>Donald Trump ordered to hand over tax returns ...</td>\n",
       "      <td>['news', 'covid', 'india', 'coronavirus', 'ins...</td>\n",
       "      <td>IFTTT</td>\n",
       "      <td>False</td>\n",
       "    </tr>\n",
       "  </tbody>\n",
       "</table>\n",
       "</div>"
      ],
      "text/plain": [
       "                            user_name             user_location  \\\n",
       "0                        CPA Jim 2021                       NaN   \n",
       "1                         Joint Minds                       NaN   \n",
       "2                             Sociafy                       USA   \n",
       "3                   🟣 Discussions.app            United States    \n",
       "4                         Ground News            Kitchener, ON    \n",
       "5                          Mike Staub         San Francisco, CA   \n",
       "6                         Bingxo News             United States   \n",
       "7         joshua epstein🏳️‍🌈🖖🏼🗽👨🏼‍💻🇺🇸             new york city   \n",
       "8                            tweetbud         GOD BLESS AMERICA   \n",
       "9     Chris Eastaughffe (AZ Vac done)    Queensland, Australia.   \n",
       "10                    Project Sociafy                       USA   \n",
       "11                       Dave Robbins               Madison, WI   \n",
       "12           Politics_Made_Simple(YT)               Chicago, IL   \n",
       "13                      Liberal Forum  United States of America   \n",
       "14                            MMNewzz             United States   \n",
       "15            America Going, Going...     Fargo (ND) - Proudly!   \n",
       "16                   Tatiana McArthur                       NaN   \n",
       "17  London Center for Policy Research             New York, USA   \n",
       "18                               Jack                       NaN   \n",
       "19                      Upcoming News                     India   \n",
       "\n",
       "                                     user_description         user_created  \\\n",
       "0   Grandparents enslaved by CCP since 1949 were b...  2011-03-17 10:17:36   \n",
       "1                                 Joint Minds Podcast  2021-01-23 23:57:27   \n",
       "2   Sociafy is an influencer-based content discove...  2011-09-30 05:59:06   \n",
       "3   Home of Crypto Communities. $ATMOS \\n\\nhttps:/...  2017-02-09 23:15:24   \n",
       "4   The world's first news source comparison platf...  2018-02-08 22:00:16   \n",
       "5   Developer, Artist, Investor, Entrepreneur, Eff...  2009-07-09 04:07:49   \n",
       "6   Comprehensive, up-to-date news coverage, aggre...  2017-07-24 07:39:02   \n",
       "7   Gay Progressive Patriot. #NYC's the greatest c...  2008-06-20 18:32:27   \n",
       "8                           sick of politicians games  2010-04-27 03:07:03   \n",
       "9   Company Director, Investigator, Author.  Exper...  2013-05-08 02:16:00   \n",
       "10  Sociafy is an influencer-based content discove...  2015-09-27 01:58:39   \n",
       "11  Enthusiast: #Art #Books #Coffee #Cycling #Desi...  2010-07-10 19:47:00   \n",
       "12  Backup for @PMS_YT 👋 History / Politics fan sm...  2020-12-30 14:49:59   \n",
       "13  Liberal Forum - America's #Political Chat Room...  2013-12-18 19:24:18   \n",
       "14  News, politics, science, technology.\\nUse your...  2011-07-15 17:06:07   \n",
       "15  \"America Going, Going...\" - The decline of Ame...  2019-03-03 18:42:47   \n",
       "16  Delightfully quirky / Traveller  / Runner / Tr...  2012-02-07 23:16:57   \n",
       "17  Challenging conventional wisdom, adding textur...  2013-04-05 19:10:27   \n",
       "18                                                NaN  2020-03-23 20:23:47   \n",
       "19  This account is provide upcoming news,and tren...  2020-10-22 08:59:10   \n",
       "\n",
       "    user_followers  user_friends  user_favourites  user_verified  \\\n",
       "0            711.0         146.0           1160.0          False   \n",
       "1              3.0           3.0              1.0          False   \n",
       "2          36219.0         181.0            930.0          False   \n",
       "3           2426.0        1104.0           8173.0          False   \n",
       "4          13763.0        1224.0           2033.0          False   \n",
       "5            495.0        2681.0           6930.0          False   \n",
       "6            340.0         114.0              1.0          False   \n",
       "7           6451.0        2806.0           4257.0          False   \n",
       "8            368.0         378.0          28408.0          False   \n",
       "9            275.0          70.0           8411.0          False   \n",
       "10         21134.0         123.0            797.0          False   \n",
       "11           819.0        1775.0          11721.0          False   \n",
       "12            34.0          43.0             42.0          False   \n",
       "13           535.0        1114.0              7.0          False   \n",
       "14          7018.0        6642.0          36109.0          False   \n",
       "15            16.0          12.0              8.0          False   \n",
       "16           318.0         378.0            544.0          False   \n",
       "17          2774.0        1080.0            998.0          False   \n",
       "18             0.0          23.0            157.0          False   \n",
       "19            40.0         275.0            132.0          False   \n",
       "\n",
       "                   date                                               text  \\\n",
       "0   2021-07-30 23:57:05  US says seizes tanker used to evade North Kore...   \n",
       "1   2021-07-30 23:53:21  Is America the greatest country? Part 1 drops ...   \n",
       "2   2021-07-30 23:53:03  O’Reilly predicts THIS is What DOOMS Biden’s r...   \n",
       "3   2021-07-30 23:51:00  Corruption in Politics\\n#blog #politics \\nhttp...   \n",
       "4   2021-07-30 23:50:53  @kylegriffin1 Are you getting all the info on ...   \n",
       "5   2021-07-30 23:50:15  90% of US drone strikes kill civilians. An ope...   \n",
       "6   2021-07-30 23:49:09  100,000-Year-Old Fossil of Largest-Ever Vampir...   \n",
       "7   2021-07-30 23:49:03  Via @RawStory: 'People will die': Congress bla...   \n",
       "8   2021-07-30 23:47:23  😮👇 gave me a lesson on the percentage of #vote...   \n",
       "9   2021-07-30 23:46:56  Please watch... the #US and #UK actually ran t...   \n",
       "10  2021-07-30 23:45:00  LEAKED Slides From the CDC Reveal Lockdowns Ar...   \n",
       "11  2021-07-30 23:41:10  Things are not going to end well for Trump or ...   \n",
       "12  2021-07-30 23:41:08  New video! Election Night 2024 Trump vs Biden ...   \n",
       "13  2021-07-30 23:40:33  The White Godess.... #politics  https://t.co/H...   \n",
       "14  2021-07-30 23:38:17  The Real Reason Democrats Can’t Stop Talking A...   \n",
       "15  2021-07-30 23:38:07  This story started with \"AMERICA Going, Going....   \n",
       "16  2021-07-30 23:36:21  It's almost here! \\n#WritingCommunity #writers...   \n",
       "17  2021-07-30 23:35:02  New Article from @TheLCPR  Director Ambassador...   \n",
       "18  2021-07-30 23:34:43  We live in the age of politics where people ca...   \n",
       "19  2021-07-30 23:34:07  Donald Trump ordered to hand over tax returns ...   \n",
       "\n",
       "                                             hashtags  \\\n",
       "0                              ['politics', 'feedly']   \n",
       "1   ['america', 'jointminds', 'politics', 'democra...   \n",
       "2                              ['politics', 'videos']   \n",
       "3                                ['blog', 'politics']   \n",
       "4   ['EvictionMoratorium', 'Congress', 'NancyPelos...   \n",
       "5                      ['politics', 'justice', 'war']   \n",
       "6   ['news', 'covid', 'usa', 'canada', 'uk', 'inst...   \n",
       "7                 ['politics', 'trump', 'corruption']   \n",
       "8                     ['voters', 'Texas', 'Politics']   \n",
       "9   ['US', 'UK', 'Chinese', 'CCP', 'debt', 'politi...   \n",
       "10                             ['politics', 'videos']   \n",
       "11                                       ['Politics']   \n",
       "12  ['ElectionNight', 'ElectionPrediction', '2024E...   \n",
       "13                                       ['politics']   \n",
       "14                            ['politics', 'opinion']   \n",
       "15  ['AmericaStillGoing', 'DavidRBailly', 'Politic...   \n",
       "16  ['WritingCommunity', 'writerslife', 'firsttime...   \n",
       "17  ['Washington', 'bureaucrats', 'powergrid', 'en...   \n",
       "18                                       ['Politics']   \n",
       "19  ['news', 'covid', 'india', 'coronavirus', 'ins...   \n",
       "\n",
       "                          source is_retweet  \n",
       "0                Twitter Web App      False  \n",
       "1             Twitter for iPhone      False  \n",
       "2                         Buffer      False  \n",
       "3                      TweetDeck      False  \n",
       "4                     GroundNews      False  \n",
       "5                Twitter Web App      False  \n",
       "6                          IFTTT      False  \n",
       "7                        dlvr.it      False  \n",
       "8            Twitter for Android      False  \n",
       "9                Twitter Web App      False  \n",
       "10                        Buffer      False  \n",
       "11               Twitter Web App      False  \n",
       "12            Twitter for iPhone      False  \n",
       "13  Liberal Forum Political Chat      False  \n",
       "14                    Twibble.io      False  \n",
       "15                SocialPilot.co      False  \n",
       "16           Twitter for Android      False  \n",
       "17                     MeetEdgar      False  \n",
       "18            Twitter for iPhone      False  \n",
       "19                         IFTTT      False  "
      ]
     },
     "execution_count": 215,
     "metadata": {},
     "output_type": "execute_result"
    }
   ],
   "source": [
    "global_tweets_df.head(20)"
   ]
  },
  {
   "cell_type": "code",
   "execution_count": 216,
   "id": "5a7284be-56b0-464f-aac7-26c6ddf7aa1c",
   "metadata": {},
   "outputs": [
    {
     "name": "stdout",
     "output_type": "stream",
     "text": [
      "<class 'pandas.core.frame.DataFrame'>\n",
      "RangeIndex: 238646 entries, 0 to 238645\n",
      "Data columns (total 13 columns):\n",
      " #   Column            Non-Null Count   Dtype  \n",
      "---  ------            --------------   -----  \n",
      " 0   user_name         238641 non-null  object \n",
      " 1   user_location     176830 non-null  object \n",
      " 2   user_description  224931 non-null  object \n",
      " 3   user_created      238646 non-null  object \n",
      " 4   user_followers    238646 non-null  float64\n",
      " 5   user_friends      238646 non-null  float64\n",
      " 6   user_favourites   238646 non-null  float64\n",
      " 7   user_verified     238646 non-null  bool   \n",
      " 8   date              238646 non-null  object \n",
      " 9   text              238646 non-null  object \n",
      " 10  hashtags          238643 non-null  object \n",
      " 11  source            238644 non-null  object \n",
      " 12  is_retweet        238644 non-null  object \n",
      "dtypes: bool(1), float64(3), object(9)\n",
      "memory usage: 22.1+ MB\n"
     ]
    }
   ],
   "source": [
    "global_tweets_df.info()"
   ]
  },
  {
   "cell_type": "code",
   "execution_count": 217,
   "id": "e546c1cc-4f64-46cc-804b-d9c7549b18ae",
   "metadata": {},
   "outputs": [
    {
     "name": "stdout",
     "output_type": "stream",
     "text": [
      "14299\n"
     ]
    }
   ],
   "source": [
    "print(len(global_tweets_df[\"user_location\"].unique()))"
   ]
  },
  {
   "cell_type": "markdown",
   "id": "b0a25bb1-d2ec-42cd-8eb4-484a90c3b38e",
   "metadata": {},
   "source": [
    "To match the geography of both dataframes (the other being tweets from US politicians), we want to filter for US tweets."
   ]
  },
  {
   "cell_type": "code",
   "execution_count": 218,
   "id": "77f85215-9aee-4649-983a-5cb9d9ceb448",
   "metadata": {},
   "outputs": [],
   "source": [
    "# List of state abbreviations\n",
    "state_abbr = ['AL', 'AK', 'AZ', 'AR', 'CA', 'CO', 'CT', 'DE', 'FL', 'GA', 'HI', 'ID', \n",
    "              'IL', 'IN', 'IA', 'KS', 'KY', 'LA', 'ME', 'MD', 'MA', 'MI', 'MN', 'MS', \n",
    "              'MO', 'MT', 'NE', 'NV', 'NH', 'NJ', 'NM', 'NY', 'NC', 'ND', 'OH', 'OK', \n",
    "              'OR', 'PA', 'RI', 'SC', 'SD', 'TN', 'TX', 'UT', 'VT', 'VA', 'WA', 'WV', \n",
    "              'WI', 'WY']\n",
    "\n",
    "# List of full state names\n",
    "state_names = ['Alabama', 'Alaska', 'Arizona', 'Arkansas', 'California', 'Colorado', 'Connecticut', \n",
    "               'Delaware', 'Florida', 'Georgia', 'Hawaii', 'Idaho', 'Illinois', 'Indiana', 'Iowa', \n",
    "               'Kansas', 'Kentucky', 'Louisiana', 'Maine', 'Maryland', 'Massachusetts', 'Michigan', \n",
    "               'Minnesota', 'Mississippi', 'Missouri', 'Montana', 'Nebraska', 'Nevada', 'New Hampshire', \n",
    "               'New Jersey', 'New Mexico', 'New York', 'North Carolina', 'North Dakota', 'Ohio', 'Oklahoma', \n",
    "               'Oregon', 'Pennsylvania', 'Rhode Island', 'South Carolina', 'South Dakota', 'Tennessee', \n",
    "               'Texas', 'Utah', 'Vermont', 'Virginia', 'Washington', 'West Virginia', 'Wisconsin', 'Wyoming']\n",
    "\n",
    "# Define keywords for country names\n",
    "country_names = ['USA', 'United States', 'United States of America']"
   ]
  },
  {
   "cell_type": "code",
   "execution_count": 219,
   "id": "b241691d-659c-4afb-86e7-6afc4be313ee",
   "metadata": {},
   "outputs": [],
   "source": [
    "# Function to filter tweets from the user_location column.\n",
    "def is_usa_location(location):\n",
    "    if isinstance(location, str):  # Check if the location is a string\n",
    "        # Ensure exact matches for state abbreviations (e.g., ' TX ' instead of 'TX' anywhere)\n",
    "        if any(re.search(r'\\b' + abbr + r'\\b', location.upper()) for abbr in state_abbr):\n",
    "            return True\n",
    "        # Ensure exact matches for full state names (case-insensitive)\n",
    "        if any(re.search(r'\\b' + state.lower() + r'\\b', location.lower()) for state in state_names):\n",
    "            return True\n",
    "        # Check for country-related terms (\"USA\", \"United States\", etc.)\n",
    "        if any(re.search(r'\\b' + country.lower() + r'\\b', location.lower()) for country in country_names):\n",
    "            return True\n",
    "    return False"
   ]
  },
  {
   "cell_type": "code",
   "execution_count": 220,
   "id": "e9b2c01c-6e82-4d6e-9a27-b7150bd46cf6",
   "metadata": {},
   "outputs": [],
   "source": [
    "# Apply the filter to the dataframe\n",
    "us_citizen_tweets_df = global_tweets_df[global_tweets_df['user_location'].apply(is_usa_location)]"
   ]
  },
  {
   "cell_type": "code",
   "execution_count": 221,
   "id": "8b463216-1cf0-428d-bf41-819d053ddeac",
   "metadata": {},
   "outputs": [
    {
     "name": "stdout",
     "output_type": "stream",
     "text": [
      "69903\n"
     ]
    }
   ],
   "source": [
    "# Check length of new dataframe containing political tweets from US citizens.\n",
    "print(len(us_citizen_tweets_df))"
   ]
  },
  {
   "cell_type": "code",
   "execution_count": 222,
   "id": "499d474c-774f-46d3-b115-af9d5b3a96db",
   "metadata": {},
   "outputs": [
    {
     "name": "stdout",
     "output_type": "stream",
     "text": [
      "11054\n"
     ]
    }
   ],
   "source": [
    "# Check the numer of unique user names in the updated dataframe.\n",
    "print(len(us_citizen_tweets_df[\"user_name\"].unique()))"
   ]
  },
  {
   "cell_type": "markdown",
   "id": "00a2af7f-ba3b-431f-aa61-8effcc1a9b3d",
   "metadata": {},
   "source": [
    "### Load US politician tweets dataset (which is stored as a .json file)"
   ]
  },
  {
   "cell_type": "code",
   "execution_count": 223,
   "id": "977ed183-2a34-4590-a949-8a68c3371c9b",
   "metadata": {},
   "outputs": [],
   "source": [
    "# Open the file and read line by line (for JSON Lines format)\n",
    "politician_tweets = []\n",
    "with open('tweets.json', 'r') as file:\n",
    "    for line in file:\n",
    "        tweet = json.loads(line)  # Parse each line as a JSON object\n",
    "        politician_tweets.append(tweet)"
   ]
  },
  {
   "cell_type": "code",
   "execution_count": 224,
   "id": "6ae14fef-3602-4ec1-9fad-d2fa6e794977",
   "metadata": {},
   "outputs": [],
   "source": [
    "# Extract the relevant fields from the JSON data\n",
    "# Assuming the JSON structure has a \"root\" key with a list of tweet objects\n",
    "filtered_politician_tweets = []"
   ]
  },
  {
   "cell_type": "markdown",
   "id": "6b2db118-8906-4db4-bbed-510643bb0288",
   "metadata": {},
   "source": [
    "We want to focus on just a handful of columns, namely the date the tweet was created, the username, and the tweet contents."
   ]
  },
  {
   "cell_type": "code",
   "execution_count": 225,
   "id": "d7e0b859-c6fc-4722-86b9-a0b76b1832fa",
   "metadata": {},
   "outputs": [],
   "source": [
    "# Loop over each tweet object in the list\n",
    "for tweet in politician_tweets:  # No need for 'root', just loop over the list directly\n",
    "    # Extract the required fields\n",
    "    filtered_tweet = {\n",
    "        'created_at': tweet.get('created_at'),\n",
    "        'screen_name': tweet.get('screen_name'),\n",
    "        'text': tweet.get('text')\n",
    "    }\n",
    "    filtered_politician_tweets.append(filtered_tweet)"
   ]
  },
  {
   "cell_type": "code",
   "execution_count": 226,
   "id": "370a5d36-6e4d-42e5-8541-0f3e67deef1f",
   "metadata": {},
   "outputs": [
    {
     "data": {
      "text/html": [
       "<div>\n",
       "<style scoped>\n",
       "    .dataframe tbody tr th:only-of-type {\n",
       "        vertical-align: middle;\n",
       "    }\n",
       "\n",
       "    .dataframe tbody tr th {\n",
       "        vertical-align: top;\n",
       "    }\n",
       "\n",
       "    .dataframe thead th {\n",
       "        text-align: right;\n",
       "    }\n",
       "</style>\n",
       "<table border=\"1\" class=\"dataframe\">\n",
       "  <thead>\n",
       "    <tr style=\"text-align: right;\">\n",
       "      <th></th>\n",
       "      <th>created_at</th>\n",
       "      <th>screen_name</th>\n",
       "      <th>text</th>\n",
       "    </tr>\n",
       "  </thead>\n",
       "  <tbody>\n",
       "    <tr>\n",
       "      <th>0</th>\n",
       "      <td>1217870931</td>\n",
       "      <td>JohnBoozman</td>\n",
       "      <td>On a conference call about a weekend trip to I...</td>\n",
       "    </tr>\n",
       "    <tr>\n",
       "      <th>1</th>\n",
       "      <td>1218049485</td>\n",
       "      <td>JohnBoozman</td>\n",
       "      <td>Being interviewed by KTHV</td>\n",
       "    </tr>\n",
       "    <tr>\n",
       "      <th>2</th>\n",
       "      <td>1218054936</td>\n",
       "      <td>JohnBoozman</td>\n",
       "      <td>Being interviewed by KARN on his Arkansas Worl...</td>\n",
       "    </tr>\n",
       "    <tr>\n",
       "      <th>3</th>\n",
       "      <td>1218117172</td>\n",
       "      <td>JohnBoozman</td>\n",
       "      <td>On KWHN in Fort Smith, that's 1320 AM</td>\n",
       "    </tr>\n",
       "    <tr>\n",
       "      <th>4</th>\n",
       "      <td>1218121925</td>\n",
       "      <td>JohnBoozman</td>\n",
       "      <td>Attending a Military of the Purple Heart Cerem...</td>\n",
       "    </tr>\n",
       "  </tbody>\n",
       "</table>\n",
       "</div>"
      ],
      "text/plain": [
       "   created_at  screen_name                                               text\n",
       "0  1217870931  JohnBoozman  On a conference call about a weekend trip to I...\n",
       "1  1218049485  JohnBoozman                          Being interviewed by KTHV\n",
       "2  1218054936  JohnBoozman  Being interviewed by KARN on his Arkansas Worl...\n",
       "3  1218117172  JohnBoozman              On KWHN in Fort Smith, that's 1320 AM\n",
       "4  1218121925  JohnBoozman  Attending a Military of the Purple Heart Cerem..."
      ]
     },
     "execution_count": 226,
     "metadata": {},
     "output_type": "execute_result"
    }
   ],
   "source": [
    "# Convert the filtered data into a DataFrame\n",
    "us_politician_tweets_df = pd.DataFrame(filtered_politician_tweets)\n",
    "us_politician_tweets_df.head()"
   ]
  },
  {
   "cell_type": "code",
   "execution_count": 227,
   "id": "275b8106-6219-4e76-8337-6fecd3b6f8b7",
   "metadata": {},
   "outputs": [
    {
     "name": "stdout",
     "output_type": "stream",
     "text": [
      "<class 'pandas.core.frame.DataFrame'>\n",
      "RangeIndex: 1243370 entries, 0 to 1243369\n",
      "Data columns (total 3 columns):\n",
      " #   Column       Non-Null Count    Dtype \n",
      "---  ------       --------------    ----- \n",
      " 0   created_at   1243370 non-null  int64 \n",
      " 1   screen_name  1243370 non-null  object\n",
      " 2   text         1243370 non-null  object\n",
      "dtypes: int64(1), object(2)\n",
      "memory usage: 28.5+ MB\n"
     ]
    }
   ],
   "source": [
    "us_politician_tweets_df.info()"
   ]
  },
  {
   "cell_type": "code",
   "execution_count": 228,
   "id": "1ade5b46-dbd2-484c-ad82-842a9b2d2048",
   "metadata": {},
   "outputs": [
    {
     "name": "stdout",
     "output_type": "stream",
     "text": [
      "545\n"
     ]
    }
   ],
   "source": [
    "print(len(us_politician_tweets_df[\"screen_name\"].unique()))"
   ]
  },
  {
   "cell_type": "code",
   "execution_count": 229,
   "id": "e77da738-ace4-435a-b157-e0d3fa24edc3",
   "metadata": {},
   "outputs": [
    {
     "name": "stdout",
     "output_type": "stream",
     "text": [
      "<class 'pandas.core.frame.DataFrame'>\n",
      "RangeIndex: 1243370 entries, 0 to 1243369\n",
      "Data columns (total 3 columns):\n",
      " #   Column       Non-Null Count    Dtype         \n",
      "---  ------       --------------    -----         \n",
      " 0   date         1243370 non-null  datetime64[ns]\n",
      " 1   screen_name  1243370 non-null  object        \n",
      " 2   text         1243370 non-null  object        \n",
      "dtypes: datetime64[ns](1), object(2)\n",
      "memory usage: 28.5+ MB\n"
     ]
    }
   ],
   "source": [
    "# Convert Unix timestamp in 'created_at' column in us_politician_tweets_df to a pandas datetime object\n",
    "# Ensure to modify the original dataframe in-place using .loc to avoid SettingWithCopyWarning\n",
    "us_politician_tweets_df.loc[:, 'created_at'] = pd.to_datetime(us_politician_tweets_df['created_at'], unit='s', errors='coerce')\n",
    "\n",
    "# Rename 'created_at' to 'date' in us_politician_tweets_df for consistency\n",
    "us_politician_tweets_df.rename(columns={'created_at': 'date'}, inplace=True)\n",
    "\n",
    "# Check the result\n",
    "us_politician_tweets_df.info()"
   ]
  },
  {
   "cell_type": "markdown",
   "id": "7f1fe4b6-4640-42ee-9b24-79318e8951e8",
   "metadata": {},
   "source": [
    "### Preparing and combining datasets"
   ]
  },
  {
   "cell_type": "code",
   "execution_count": 230,
   "id": "1a290e26-c0be-4606-8d3a-ff224867b8c5",
   "metadata": {},
   "outputs": [],
   "source": [
    "# Add the 'label' column manually to each dataset\n",
    "us_citizen_tweets_df.loc[:, 'label'] = 0  # Label for citizen tweets\n",
    "us_politician_tweets_df.loc[:, 'label'] = 1  # Label for politician tweets\n",
    "\n",
    "# Rename 'screen_name' to 'user_name' in the politician dataframe\n",
    "if 'screen_name' in us_politician_tweets_df.columns:\n",
    "    us_politician_tweets_df.rename(columns={'screen_name': 'user_name'}, inplace=True)"
   ]
  },
  {
   "cell_type": "markdown",
   "id": "879c8f09-ddf7-4150-b491-7a99b516e6a4",
   "metadata": {},
   "source": [
    "There is a vast disparity in the number of unique citizen tweets vs. politician tweets. We need to balance the classes anmd downsample the US citizen dataframe tweets by randomly. Moreover, we want to ensure independence of observations by ensuring each tweet is from a unique user."
   ]
  },
  {
   "cell_type": "code",
   "execution_count": 231,
   "id": "86b29e58-87c3-4786-8ab7-9feed29b4f34",
   "metadata": {},
   "outputs": [
    {
     "name": "stderr",
     "output_type": "stream",
     "text": [
      "C:\\Users\\cedga\\AppData\\Local\\Temp\\ipykernel_26036\\3593624416.py:3: DeprecationWarning:\n",
      "\n",
      "DataFrameGroupBy.apply operated on the grouping columns. This behavior is deprecated, and in a future version of pandas the grouping columns will be excluded from the operation. Either pass `include_groups=False` to exclude the groupings or explicitly select the grouping columns after groupby to silence this warning.\n",
      "\n"
     ]
    },
    {
     "name": "stdout",
     "output_type": "stream",
     "text": [
      "Public dataset size: 545\n",
      "Politician dataset size: 545\n",
      "Public dataset size (unique users): 545\n",
      "Politician dataset size (unique users): 545\n"
     ]
    },
    {
     "name": "stderr",
     "output_type": "stream",
     "text": [
      "C:\\Users\\cedga\\AppData\\Local\\Temp\\ipykernel_26036\\3593624416.py:4: DeprecationWarning:\n",
      "\n",
      "DataFrameGroupBy.apply operated on the grouping columns. This behavior is deprecated, and in a future version of pandas the grouping columns will be excluded from the operation. Either pass `include_groups=False` to exclude the groupings or explicitly select the grouping columns after groupby to silence this warning.\n",
      "\n"
     ]
    }
   ],
   "source": [
    "# Ensure unique users are selected for public and politician tweets\n",
    "# Group by 'user_name' and sample one tweet per unique user\n",
    "citizen_sampled_df = us_citizen_tweets_df.groupby('user_name').apply(lambda x: x.sample(1, random_state=42)).reset_index(drop=True)\n",
    "politician_sampled_df = us_politician_tweets_df.groupby('user_name').apply(lambda x: x.sample(1, random_state=42)).reset_index(drop=True)\n",
    "\n",
    "# Find the size of the smaller dataset (after ensuring unique users)\n",
    "min_size = min(len(citizen_sampled_df), len(politician_sampled_df))\n",
    "\n",
    "# Downsample both datasets to match the size of the smaller one, keeping 'user_name', 'text', 'date', and 'label'\n",
    "citizen_sampled_df = citizen_sampled_df.sample(min_size, random_state=42).reset_index(drop=True)\n",
    "politician_sampled_df = politician_sampled_df.sample(min_size, random_state=42).reset_index(drop=True)\n",
    "\n",
    "# Check the result\n",
    "\n",
    "print(f\"Public dataset size: {len(citizen_sampled_df)}\")\n",
    "print(f\"Politician dataset size: {len(politician_sampled_df)}\")\n",
    "print(f\"Public dataset size (unique users): {len(citizen_sampled_df[\"user_name\"].unique())}\")\n",
    "print(f\"Politician dataset size (unique users): {len(politician_sampled_df[\"user_name\"].unique())}\")"
   ]
  },
  {
   "cell_type": "markdown",
   "id": "71367aad-663c-49e5-a7e1-6a8b22e24e94",
   "metadata": {},
   "source": [
    "We also want to make sure that none of the users in the citizen dataset are also US politicans, appearing in the politician tweets dataset (or at least attempt to verify this)."
   ]
  },
  {
   "cell_type": "code",
   "execution_count": 232,
   "id": "219464a6-e047-423b-9a2c-daf1a7dfa8a5",
   "metadata": {},
   "outputs": [
    {
     "name": "stdout",
     "output_type": "stream",
     "text": [
      "No common usernames found.\n"
     ]
    }
   ],
   "source": [
    "# Check if any usernames in citizen_sampled_df.head() exist in politician_sampled_df.head()\n",
    "citizen_usernames = citizen_sampled_df.head()['user_name']\n",
    "politician_usernames = politician_sampled_df.head()['user_name']\n",
    "\n",
    "# Find any common usernames\n",
    "common_usernames = set(citizen_usernames).intersection(set(politician_usernames))\n",
    "\n",
    "# Print the result\n",
    "if common_usernames:\n",
    "    print(f\"Common usernames found: {common_usernames}\")\n",
    "else:\n",
    "    print(\"No common usernames found.\")"
   ]
  },
  {
   "cell_type": "markdown",
   "id": "5f36fc25-97b1-4189-ac2b-d560853dab68",
   "metadata": {},
   "source": [
    "Ensure consistency in columns so datasets can be combined"
   ]
  },
  {
   "cell_type": "code",
   "execution_count": 233,
   "id": "c879b6eb-b1fe-4af3-883e-85129890cd4e",
   "metadata": {},
   "outputs": [
    {
     "data": {
      "text/html": [
       "<div>\n",
       "<style scoped>\n",
       "    .dataframe tbody tr th:only-of-type {\n",
       "        vertical-align: middle;\n",
       "    }\n",
       "\n",
       "    .dataframe tbody tr th {\n",
       "        vertical-align: top;\n",
       "    }\n",
       "\n",
       "    .dataframe thead th {\n",
       "        text-align: right;\n",
       "    }\n",
       "</style>\n",
       "<table border=\"1\" class=\"dataframe\">\n",
       "  <thead>\n",
       "    <tr style=\"text-align: right;\">\n",
       "      <th></th>\n",
       "      <th>user_name</th>\n",
       "      <th>text</th>\n",
       "      <th>date</th>\n",
       "      <th>label</th>\n",
       "    </tr>\n",
       "  </thead>\n",
       "  <tbody>\n",
       "    <tr>\n",
       "      <th>0</th>\n",
       "      <td>seven_X</td>\n",
       "      <td>Wow, your tweet changed my outlook on that iss...</td>\n",
       "      <td>2022-01-11 15:47:26</td>\n",
       "      <td>0</td>\n",
       "    </tr>\n",
       "    <tr>\n",
       "      <th>1</th>\n",
       "      <td>Raven Leonard</td>\n",
       "      <td>On the bright side, at least there’s no MeAn t...</td>\n",
       "      <td>2021-08-17 01:15:18</td>\n",
       "      <td>0</td>\n",
       "    </tr>\n",
       "    <tr>\n",
       "      <th>2</th>\n",
       "      <td>💥Colorado Conservative💥 - Intense Tweets</td>\n",
       "      <td>The purpose of this is to make COVID \"disappea...</td>\n",
       "      <td>2022-01-15 23:53:15</td>\n",
       "      <td>0</td>\n",
       "    </tr>\n",
       "    <tr>\n",
       "      <th>3</th>\n",
       "      <td>EeshGeebor</td>\n",
       "      <td>Just so I am not accused of remaning silent: I...</td>\n",
       "      <td>2022-06-25 09:20:48</td>\n",
       "      <td>0</td>\n",
       "    </tr>\n",
       "    <tr>\n",
       "      <th>4</th>\n",
       "      <td>The Clownald Report </td>\n",
       "      <td>I cannot wait to see the look on Republican’s ...</td>\n",
       "      <td>2022-07-01 16:03:23</td>\n",
       "      <td>0</td>\n",
       "    </tr>\n",
       "  </tbody>\n",
       "</table>\n",
       "</div>"
      ],
      "text/plain": [
       "                                  user_name  \\\n",
       "0                                   seven_X   \n",
       "1                             Raven Leonard   \n",
       "2  💥Colorado Conservative💥 - Intense Tweets   \n",
       "3                                EeshGeebor   \n",
       "4                     The Clownald Report    \n",
       "\n",
       "                                                text                 date  \\\n",
       "0  Wow, your tweet changed my outlook on that iss...  2022-01-11 15:47:26   \n",
       "1  On the bright side, at least there’s no MeAn t...  2021-08-17 01:15:18   \n",
       "2  The purpose of this is to make COVID \"disappea...  2022-01-15 23:53:15   \n",
       "3  Just so I am not accused of remaning silent: I...  2022-06-25 09:20:48   \n",
       "4  I cannot wait to see the look on Republican’s ...  2022-07-01 16:03:23   \n",
       "\n",
       "   label  \n",
       "0      0  \n",
       "1      0  \n",
       "2      0  \n",
       "3      0  \n",
       "4      0  "
      ]
     },
     "execution_count": 233,
     "metadata": {},
     "output_type": "execute_result"
    }
   ],
   "source": [
    "# Sample both datasets to ensure 'text', 'date', and 'label' are retained\n",
    "citizen_sampled_df = citizen_sampled_df[['user_name', 'text', 'date', 'label']]\n",
    "politician_sampled_df = politician_sampled_df[['user_name','text', 'date', 'label']]\n",
    "\n",
    "citizen_sampled_df.head()"
   ]
  },
  {
   "cell_type": "markdown",
   "id": "c36867d4-61b2-4f14-a3f9-11ab45b9a9e6",
   "metadata": {},
   "source": [
    "Time to combine the datasets!"
   ]
  },
  {
   "cell_type": "code",
   "execution_count": 234,
   "id": "384ac698-adb6-41f0-ac7a-e18de51d7406",
   "metadata": {},
   "outputs": [
    {
     "data": {
      "text/html": [
       "<div>\n",
       "<style scoped>\n",
       "    .dataframe tbody tr th:only-of-type {\n",
       "        vertical-align: middle;\n",
       "    }\n",
       "\n",
       "    .dataframe tbody tr th {\n",
       "        vertical-align: top;\n",
       "    }\n",
       "\n",
       "    .dataframe thead th {\n",
       "        text-align: right;\n",
       "    }\n",
       "</style>\n",
       "<table border=\"1\" class=\"dataframe\">\n",
       "  <thead>\n",
       "    <tr style=\"text-align: right;\">\n",
       "      <th></th>\n",
       "      <th>user_name</th>\n",
       "      <th>text</th>\n",
       "      <th>date</th>\n",
       "      <th>label</th>\n",
       "    </tr>\n",
       "  </thead>\n",
       "  <tbody>\n",
       "    <tr>\n",
       "      <th>0</th>\n",
       "      <td>seven_X</td>\n",
       "      <td>Wow, your tweet changed my outlook on that iss...</td>\n",
       "      <td>2022-01-11 15:47:26</td>\n",
       "      <td>0</td>\n",
       "    </tr>\n",
       "    <tr>\n",
       "      <th>1</th>\n",
       "      <td>Raven Leonard</td>\n",
       "      <td>On the bright side, at least there’s no MeAn t...</td>\n",
       "      <td>2021-08-17 01:15:18</td>\n",
       "      <td>0</td>\n",
       "    </tr>\n",
       "    <tr>\n",
       "      <th>2</th>\n",
       "      <td>💥Colorado Conservative💥 - Intense Tweets</td>\n",
       "      <td>The purpose of this is to make COVID \"disappea...</td>\n",
       "      <td>2022-01-15 23:53:15</td>\n",
       "      <td>0</td>\n",
       "    </tr>\n",
       "    <tr>\n",
       "      <th>3</th>\n",
       "      <td>EeshGeebor</td>\n",
       "      <td>Just so I am not accused of remaning silent: I...</td>\n",
       "      <td>2022-06-25 09:20:48</td>\n",
       "      <td>0</td>\n",
       "    </tr>\n",
       "    <tr>\n",
       "      <th>4</th>\n",
       "      <td>The Clownald Report </td>\n",
       "      <td>I cannot wait to see the look on Republican’s ...</td>\n",
       "      <td>2022-07-01 16:03:23</td>\n",
       "      <td>0</td>\n",
       "    </tr>\n",
       "  </tbody>\n",
       "</table>\n",
       "</div>"
      ],
      "text/plain": [
       "                                  user_name  \\\n",
       "0                                   seven_X   \n",
       "1                             Raven Leonard   \n",
       "2  💥Colorado Conservative💥 - Intense Tweets   \n",
       "3                                EeshGeebor   \n",
       "4                     The Clownald Report    \n",
       "\n",
       "                                                text                 date  \\\n",
       "0  Wow, your tweet changed my outlook on that iss...  2022-01-11 15:47:26   \n",
       "1  On the bright side, at least there’s no MeAn t...  2021-08-17 01:15:18   \n",
       "2  The purpose of this is to make COVID \"disappea...  2022-01-15 23:53:15   \n",
       "3  Just so I am not accused of remaning silent: I...  2022-06-25 09:20:48   \n",
       "4  I cannot wait to see the look on Republican’s ...  2022-07-01 16:03:23   \n",
       "\n",
       "   label  \n",
       "0      0  \n",
       "1      0  \n",
       "2      0  \n",
       "3      0  \n",
       "4      0  "
      ]
     },
     "execution_count": 234,
     "metadata": {},
     "output_type": "execute_result"
    }
   ],
   "source": [
    "# Combine both datasets\n",
    "combined_tweets_df = pd.concat([citizen_sampled_df, politician_sampled_df], ignore_index=True)\n",
    "combined_tweets_df.head()"
   ]
  },
  {
   "cell_type": "code",
   "execution_count": 235,
   "id": "a8c3c04f-6300-42eb-a525-496cde40aaeb",
   "metadata": {},
   "outputs": [
    {
     "name": "stdout",
     "output_type": "stream",
     "text": [
      "1090\n"
     ]
    }
   ],
   "source": [
    "print(len(combined_tweets_df))"
   ]
  },
  {
   "cell_type": "code",
   "execution_count": 236,
   "id": "db49a5d9-3288-4404-825b-f92339a9742e",
   "metadata": {},
   "outputs": [
    {
     "name": "stdout",
     "output_type": "stream",
     "text": [
      "<class 'pandas.core.frame.DataFrame'>\n",
      "RangeIndex: 1090 entries, 0 to 1089\n",
      "Data columns (total 4 columns):\n",
      " #   Column     Non-Null Count  Dtype \n",
      "---  ------     --------------  ----- \n",
      " 0   user_name  1090 non-null   object\n",
      " 1   text       1090 non-null   object\n",
      " 2   date       1090 non-null   object\n",
      " 3   label      1090 non-null   int64 \n",
      "dtypes: int64(1), object(3)\n",
      "memory usage: 34.2+ KB\n"
     ]
    }
   ],
   "source": [
    "combined_tweets_df.info()"
   ]
  },
  {
   "cell_type": "markdown",
   "id": "8dfb9afa-770a-4837-935e-2d025377f84d",
   "metadata": {},
   "source": [
    "### Embedding tweet text data using BERT sentence transformers"
   ]
  },
  {
   "cell_type": "code",
   "execution_count": 237,
   "id": "2814fa12-b9c9-4aa2-bad8-a9ac0ce4727a",
   "metadata": {},
   "outputs": [],
   "source": [
    "# Use BERT sentence transformers to embed the tweet texts\n",
    "transformer_model = SentenceTransformer('all-MiniLM-L6-v2')  # You can choose a different model from sentence-transformers if needed"
   ]
  },
  {
   "cell_type": "code",
   "execution_count": 238,
   "id": "4fad8e99-6bc8-408c-ba25-12fc64340967",
   "metadata": {},
   "outputs": [
    {
     "data": {
      "application/vnd.jupyter.widget-view+json": {
       "model_id": "4b2327d248604f848f338b5bafed58c6",
       "version_major": 2,
       "version_minor": 0
      },
      "text/plain": [
       "Batches:   0%|          | 0/35 [00:00<?, ?it/s]"
      ]
     },
     "metadata": {},
     "output_type": "display_data"
    }
   ],
   "source": [
    "# Embed the text column into vectors\n",
    "tweet_embeddings = transformer_model.encode(combined_tweets_df['text'].tolist(), show_progress_bar=True)"
   ]
  },
  {
   "cell_type": "markdown",
   "id": "774176a5-96ce-4743-869f-5f1cd02bdcf4",
   "metadata": {},
   "source": [
    "Now we want to employ dimension reduction techniques, so we can a) plot our tweet embeddings in 2d space to get an insight into how they are clustering, and b) to avoid the 'Curse of Dimensionality'.\n",
    "\n",
    "We are going to test the performance of three dmimension reduction tecnniques using a simple baseline classifier: Principal Components Analysis, tSNE, and UMAP.\n",
    "\n",
    "In this project, I'm using AUC-ROC to assess how well each dimensionality reduction technique (PCA, UMAP, and t-SNE) retains classification power when combined with a baseline Random Forest classifier. By focusing on AUC-ROC, we can identify which technique provides the most effective separation between tweet types.\n",
    "\n",
    "We'll be relying on AUC-ROC scores moving forward, as a reliable means of measuresing the ability of our models to distinguish between classes by summarizing their performance across all possible classification thresholds. A higher score (closer to 1) indicates better class separation, while a score of 0.5 suggests the model performs no better than random guessing."
   ]
  },
  {
   "cell_type": "code",
   "execution_count": 239,
   "id": "772e23c8-d313-4cf5-b993-d6c5bf4be73e",
   "metadata": {},
   "outputs": [],
   "source": [
    "# Initialize dimensionality reduction models\n",
    "pca = PCA(n_components=2, random_state=42)\n",
    "umap_model = umap.UMAP(n_neighbors=2, min_dist=0.001, n_components=2, random_state=42)\n",
    "tsne = TSNE(n_components=2, random_state=42)"
   ]
  },
  {
   "cell_type": "code",
   "execution_count": 240,
   "id": "69db6c25-4528-4aaa-b98d-c9b7cd2ebdcf",
   "metadata": {},
   "outputs": [],
   "source": [
    "labels = combined_tweets_df['label']"
   ]
  },
  {
   "cell_type": "code",
   "execution_count": 241,
   "id": "82c04b16-b9df-437f-9908-ab296e7be95d",
   "metadata": {},
   "outputs": [],
   "source": [
    "# Apply dimensionality reduction techniques to the embeddings\n",
    "X_pca = pca.fit_transform(tweet_embeddings)\n",
    "X_umap = umap_model.fit_transform(tweet_embeddings)\n",
    "X_tsne = tsne.fit_transform(tweet_embeddings)"
   ]
  },
  {
   "cell_type": "code",
   "execution_count": 242,
   "id": "d78b5a32-cc2c-414c-a6f9-c91534ecf82f",
   "metadata": {},
   "outputs": [],
   "source": [
    "# Dictionary to hold results for each method\n",
    "results = {}"
   ]
  },
  {
   "cell_type": "code",
   "execution_count": 243,
   "id": "79110587-b26c-40fa-bc4b-09c18b086435",
   "metadata": {},
   "outputs": [],
   "source": [
    "# Function to train and evaluate using Random Forest as baseline\n",
    "def evaluate_model(X, labels, reduction_name):\n",
    "    X_train, X_test, y_train, y_test = train_test_split(X, labels, test_size=0.2, random_state=42)\n",
    "    clf = RandomForestClassifier(random_state=42, n_estimators=100)\n",
    "    clf.fit(X_train, y_train)\n",
    "    y_pred_probs = clf.predict_proba(X_test)[:, 1]  # Probability of class 1\n",
    "    \n",
    "    # AUC-ROC Score\n",
    "    auc_score = roc_auc_score(y_test, y_pred_probs)\n",
    "    results[reduction_name] = auc_score\n",
    "    \n",
    "    # Confusion Matrix\n",
    "    y_pred_labels = (y_pred_probs >= 0.5).astype(int)\n",
    "    conf_matrix = confusion_matrix(y_test, y_pred_labels)\n",
    "    \n",
    "    print(f\"{reduction_name} - AUC-ROC Score: {auc_score:.4f}\")\n",
    "    print(f\"{reduction_name} - Confusion Matrix:\\n{conf_matrix}\\n\")"
   ]
  },
  {
   "cell_type": "code",
   "execution_count": 244,
   "id": "3ad469fa-e364-4808-a382-9ade22ba6909",
   "metadata": {},
   "outputs": [
    {
     "name": "stdout",
     "output_type": "stream",
     "text": [
      "PCA - AUC-ROC Score: 0.9252\n",
      "PCA - Confusion Matrix:\n",
      "[[92 24]\n",
      " [ 9 93]]\n",
      "\n",
      "UMAP - AUC-ROC Score: 0.9013\n",
      "UMAP - Confusion Matrix:\n",
      "[[97 19]\n",
      " [16 86]]\n",
      "\n",
      "t-SNE - AUC-ROC Score: 0.9159\n",
      "t-SNE - Confusion Matrix:\n",
      "[[97 19]\n",
      " [17 85]]\n",
      "\n",
      "Summary of AUC-ROC Scores: {'PCA': 0.9252028397565922, 'UMAP': 0.9013269100743746, 't-SNE': 0.9158637592968222}\n"
     ]
    }
   ],
   "source": [
    "# Evaluate each technique\n",
    "evaluate_model(X_pca, labels, 'PCA')\n",
    "evaluate_model(X_umap, labels, 'UMAP')\n",
    "evaluate_model(X_tsne, labels, 't-SNE')\n",
    "\n",
    "# Summary of results\n",
    "print(\"Summary of AUC-ROC Scores:\", results)"
   ]
  },
  {
   "cell_type": "markdown",
   "id": "b4936f6b-bfc9-4e26-80c2-2e611c3935cc",
   "metadata": {},
   "source": [
    "PCA: \n",
    "\n",
    "AUC-ROC: 0.9252\n",
    "\n",
    "PCA had the highest AUC-ROC score among the techniques, suggesting it preserved more information useful for classification. It’s a strong choice, especially when variance is concentrated in a few dimensions. However, PCA primarily preserves linear variance and may miss some non-linear structures.\n",
    "\n",
    "UMAP:\n",
    "\n",
    "AUC-ROC: 0.8956\n",
    "\n",
    "UMAP also performed well, with an AUC-ROC score close to PCA and t-SNE. While the score is slightly lower, UMAP has unique advantages for downstream modeling, particularly due to its balance between local and global structure. This makes it a robust choice for embedding data in a lower-dimensional space while retaining non-linear structures, which can benefit subsequent modeling.\n",
    "\n",
    "t-SNE:\n",
    "\n",
    "AUC-ROC: 0.9159\n",
    "\n",
    "t-SNE achieved a similar AUC-ROC score to PCA, indicating good preservation of local structure and class separability. However, t-SNE is generally more computationally intensive, which can be a limitation when scaling up or when a quick reduction is needed for iterative modeling.\n",
    "\n",
    "All three techniques performed well, each with an AUC-ROC score near or above 0.9. After considering the strengths of each technique, we will proceed with UMAP. Despite its slightly lower AUC-ROC score compared to PCA, UMAP’s ability to capture both local and global non-linear structures makes it more suitable for downstream modeling in this project. Moreover, UMAP is faster and more scalable than t-SNE, providing an efficient solution that can generalize well across different model types.\n",
    "\n",
    "While further tuning of hyperparameters could marginally improve performance, the high AUC-ROC scores across all methods suggest they are adequately capturing the structure for our purposes. Moving forward, we will apply UMAP to embed the data and evaluate the performance of various classification models."
   ]
  },
  {
   "cell_type": "code",
   "execution_count": 245,
   "id": "a192ed08-15f5-41da-98f0-dadfb5d17197",
   "metadata": {},
   "outputs": [
    {
     "data": {
      "image/png": "[encoded data removed]",
      "text/plain": [
       "<Figure size 800x600 with 2 Axes>"
      ]
     },
     "metadata": {},
     "output_type": "display_data"
    }
   ],
   "source": [
    "# Apply UMAP for dimensionality reduction to 2D\n",
    "umap_2d = umap.UMAP(n_neighbors=15, min_dist=0.1, n_components=2, random_state=42)\n",
    "X_umap = umap_2d.fit_transform(tweet_embeddings)\n",
    "\n",
    "# Visualize the UMAP results\n",
    "plt.figure(figsize=(8, 6))\n",
    "plt.scatter(X_umap[:, 0], X_umap[:, 1], c=combined_tweets_df['label'], cmap='coolwarm', alpha=0.7)\n",
    "plt.title('UMAP of BERT Embeddings (Public vs Politicians)')\n",
    "plt.xlabel('UMAP Component 1')\n",
    "plt.ylabel('UMAP Component 2')\n",
    "plt.colorbar(label='Label')\n",
    "plt.show()"
   ]
  },
  {
   "cell_type": "markdown",
   "id": "b0ff4dec-29da-4781-9dc7-ada28ece6b6f",
   "metadata": {},
   "source": [
    "### Exploring citizen and politican tweet topics using BERTopic"
   ]
  },
  {
   "cell_type": "code",
   "execution_count": 246,
   "id": "5f922f3d-83d6-4eaa-823d-aef9dbf76f6b",
   "metadata": {},
   "outputs": [],
   "source": [
    "# Separate DataFrames for citizens and politicians\n",
    "citizen_tweets = combined_tweets_df[combined_tweets_df['label'] == 0]['text'].tolist()\n",
    "politician_tweets = combined_tweets_df[combined_tweets_df['label'] == 1]['text'].tolist()"
   ]
  },
  {
   "cell_type": "code",
   "execution_count": 247,
   "id": "79f9656d-e3cd-4030-a043-e76a7233e709",
   "metadata": {},
   "outputs": [
    {
     "name": "stderr",
     "output_type": "stream",
     "text": [
      "2024-10-13 18:11:48,736 - BERTopic - Embedding - Transforming documents to embeddings.\n"
     ]
    },
    {
     "data": {
      "application/vnd.jupyter.widget-view+json": {
       "model_id": "8269a43fe1f7432db7f7a88843c320e6",
       "version_major": 2,
       "version_minor": 0
      },
      "text/plain": [
       "Batches:   0%|          | 0/18 [00:00<?, ?it/s]"
      ]
     },
     "metadata": {},
     "output_type": "display_data"
    },
    {
     "name": "stderr",
     "output_type": "stream",
     "text": [
      "2024-10-13 18:11:59,163 - BERTopic - Embedding - Completed ✓\n",
      "2024-10-13 18:11:59,164 - BERTopic - Dimensionality - Fitting the dimensionality reduction algorithm\n",
      "2024-10-13 18:12:00,158 - BERTopic - Dimensionality - Completed ✓\n",
      "2024-10-13 18:12:00,158 - BERTopic - Cluster - Start clustering the reduced embeddings\n",
      "2024-10-13 18:12:00,169 - BERTopic - Cluster - Completed ✓\n",
      "2024-10-13 18:12:00,171 - BERTopic - Representation - Extracting topics from clusters using representation models.\n",
      "2024-10-13 18:12:00,188 - BERTopic - Representation - Completed ✓\n"
     ]
    }
   ],
   "source": [
    "umap_model = umap.UMAP(n_neighbors=10, min_dist=0.5, random_state=42)\n",
    "vectorizer_model = CountVectorizer(stop_words=\"english\")\n",
    "\n",
    "citizen_model = BERTopic(umap_model=umap_model, vectorizer_model=vectorizer_model, min_topic_size=5, verbose=True)\n",
    "citizen_topics, citizen_probs = citizen_model.fit_transform(citizen_tweets)"
   ]
  },
  {
   "cell_type": "code",
   "execution_count": 248,
   "id": "8e77c677-9d12-4cc6-983a-ec85580f8479",
   "metadata": {},
   "outputs": [
    {
     "name": "stdout",
     "output_type": "stream",
     "text": [
      "   Topic  Count                              Name  \\\n",
      "0     -1     99  -1_politics_people_education_amp   \n",
      "1      0    405    0_politics_news_political_vote   \n",
      "2      1     23     1_ukraine_russia_war_politics   \n",
      "3      2     11   2_podcast_episode_spreaker_link   \n",
      "4      3      7   3_religion_pastors_politics_amp   \n",
      "\n",
      "                                      Representation  \\\n",
      "0  [politics, people, education, amp, isnt, ameri...   \n",
      "1  [politics, news, political, vote, democrats, r...   \n",
      "2  [ukraine, russia, war, politics, putin, intern...   \n",
      "3  [podcast, episode, spreaker, link, new, politi...   \n",
      "4  [religion, pastors, politics, amp, getting, go...   \n",
      "\n",
      "                                 Representative_Docs  \n",
      "0  [Education is power &amp; politicians have dee...  \n",
      "1  [Comment your opinion below… #netnews #news #t...  \n",
      "2  [What Russia’s War means for the International...  \n",
      "3  [📣 New Podcast! \"Episode 3: Alderwoman Maria H...  \n",
      "4  [what in the name of god #roe #roevwade #roevs...  \n"
     ]
    }
   ],
   "source": [
    "topic_info = citizen_model.get_topic_info()\n",
    "print(topic_info.head())"
   ]
  },
  {
   "cell_type": "code",
   "execution_count": 249,
   "id": "379b9fa0-6804-480b-b4a2-0b428757330c",
   "metadata": {},
   "outputs": [
    {
     "data": {
      "application/vnd.plotly.v1+json": {
       "config": {
        "plotlyServerURL": "https://plot.ly"
       },
       "data": [
        {
         "marker": {
          "color": "#D55E00"
         },
         "orientation": "h",
         "type": "bar",
         "x": [
          0.01768302139032489,
          0.017823183059709303,
          0.020120242830782373,
          0.021026430434698703,
          0.09437276689125289
         ],
         "xaxis": "x",
         "y": [
          "democrats  ",
          "vote  ",
          "political  ",
          "news  ",
          "politics  "
         ],
         "yaxis": "y"
        },
        {
         "marker": {
          "color": "#0072B2"
         },
         "orientation": "h",
         "type": "bar",
         "x": [
          0.06899045884540296,
          0.0928816896000152,
          0.12204471534480948,
          0.1298998884192967,
          0.20227292870591204
         ],
         "xaxis": "x2",
         "y": [
          "putin  ",
          "politics  ",
          "war  ",
          "russia  ",
          "ukraine  "
         ],
         "yaxis": "y2"
        },
        {
         "marker": {
          "color": "#CC79A7"
         },
         "orientation": "h",
         "type": "bar",
         "x": [
          0.08002125178420429,
          0.08087856056017231,
          0.10450301330248964,
          0.14886748550861265,
          0.2773768233943817
         ],
         "xaxis": "x3",
         "y": [
          "new  ",
          "link  ",
          "spreaker  ",
          "episode  ",
          "podcast  "
         ],
         "yaxis": "y3"
        },
        {
         "marker": {
          "color": "#E69F00"
         },
         "orientation": "h",
         "type": "bar",
         "x": [
          0.1280698022349302,
          0.13404286866309142,
          0.13830815697324197,
          0.16769834821554852,
          0.20032785086961452
         ],
         "xaxis": "x4",
         "y": [
          "getting  ",
          "amp  ",
          "politics  ",
          "pastors  ",
          "religion  "
         ],
         "yaxis": "y4"
        }
       ],
       "layout": {
        "annotations": [
         {
          "font": {
           "size": 16
          },
          "showarrow": false,
          "text": "Topic 0",
          "x": 0.0875,
          "xanchor": "center",
          "xref": "paper",
          "y": 1,
          "yanchor": "bottom",
          "yref": "paper"
         },
         {
          "font": {
           "size": 16
          },
          "showarrow": false,
          "text": "Topic 1",
          "x": 0.36250000000000004,
          "xanchor": "center",
          "xref": "paper",
          "y": 1,
          "yanchor": "bottom",
          "yref": "paper"
         },
         {
          "font": {
           "size": 16
          },
          "showarrow": false,
          "text": "Topic 2",
          "x": 0.6375000000000001,
          "xanchor": "center",
          "xref": "paper",
          "y": 1,
          "yanchor": "bottom",
          "yref": "paper"
         },
         {
          "font": {
           "size": 16
          },
          "showarrow": false,
          "text": "Topic 3",
          "x": 0.9125,
          "xanchor": "center",
          "xref": "paper",
          "y": 1,
          "yanchor": "bottom",
          "yref": "paper"
         }
        ],
        "height": 325,
        "hoverlabel": {
         "bgcolor": "white",
         "font": {
          "family": "Rockwell",
          "size": 16
         }
        },
        "showlegend": false,
        "template": {
         "data": {
          "bar": [
           {
            "error_x": {
             "color": "#2a3f5f"
            },
            "error_y": {
             "color": "#2a3f5f"
            },
            "marker": {
             "line": {
              "color": "white",
              "width": 0.5
             },
             "pattern": {
              "fillmode": "overlay",
              "size": 10,
              "solidity": 0.2
             }
            },
            "type": "bar"
           }
          ],
          "barpolar": [
           {
            "marker": {
             "line": {
              "color": "white",
              "width": 0.5
             },
             "pattern": {
              "fillmode": "overlay",
              "size": 10,
              "solidity": 0.2
             }
            },
            "type": "barpolar"
           }
          ],
          "carpet": [
           {
            "aaxis": {
             "endlinecolor": "#2a3f5f",
             "gridcolor": "#C8D4E3",
             "linecolor": "#C8D4E3",
             "minorgridcolor": "#C8D4E3",
             "startlinecolor": "#2a3f5f"
            },
            "baxis": {
             "endlinecolor": "#2a3f5f",
             "gridcolor": "#C8D4E3",
             "linecolor": "#C8D4E3",
             "minorgridcolor": "#C8D4E3",
             "startlinecolor": "#2a3f5f"
            },
            "type": "carpet"
           }
          ],
          "choropleth": [
           {
            "colorbar": {
             "outlinewidth": 0,
             "ticks": ""
            },
            "type": "choropleth"
           }
          ],
          "contour": [
           {
            "colorbar": {
             "outlinewidth": 0,
             "ticks": ""
            },
            "colorscale": [
             [
              0,
              "#0d0887"
             ],
             [
              0.1111111111111111,
              "#46039f"
             ],
             [
              0.2222222222222222,
              "#7201a8"
             ],
             [
              0.3333333333333333,
              "#9c179e"
             ],
             [
              0.4444444444444444,
              "#bd3786"
             ],
             [
              0.5555555555555556,
              "#d8576b"
             ],
             [
              0.6666666666666666,
              "#ed7953"
             ],
             [
              0.7777777777777778,
              "#fb9f3a"
             ],
             [
              0.8888888888888888,
              "#fdca26"
             ],
             [
              1,
              "#f0f921"
             ]
            ],
            "type": "contour"
           }
          ],
          "contourcarpet": [
           {
            "colorbar": {
             "outlinewidth": 0,
             "ticks": ""
            },
            "type": "contourcarpet"
           }
          ],
          "heatmap": [
           {
            "colorbar": {
             "outlinewidth": 0,
             "ticks": ""
            },
            "colorscale": [
             [
              0,
              "#0d0887"
             ],
             [
              0.1111111111111111,
              "#46039f"
             ],
             [
              0.2222222222222222,
              "#7201a8"
             ],
             [
              0.3333333333333333,
              "#9c179e"
             ],
             [
              0.4444444444444444,
              "#bd3786"
             ],
             [
              0.5555555555555556,
              "#d8576b"
             ],
             [
              0.6666666666666666,
              "#ed7953"
             ],
             [
              0.7777777777777778,
              "#fb9f3a"
             ],
             [
              0.8888888888888888,
              "#fdca26"
             ],
             [
              1,
              "#f0f921"
             ]
            ],
            "type": "heatmap"
           }
          ],
          "heatmapgl": [
           {
            "colorbar": {
             "outlinewidth": 0,
             "ticks": ""
            },
            "colorscale": [
             [
              0,
              "#0d0887"
             ],
             [
              0.1111111111111111,
              "#46039f"
             ],
             [
              0.2222222222222222,
              "#7201a8"
             ],
             [
              0.3333333333333333,
              "#9c179e"
             ],
             [
              0.4444444444444444,
              "#bd3786"
             ],
             [
              0.5555555555555556,
              "#d8576b"
             ],
             [
              0.6666666666666666,
              "#ed7953"
             ],
             [
              0.7777777777777778,
              "#fb9f3a"
             ],
             [
              0.8888888888888888,
              "#fdca26"
             ],
             [
              1,
              "#f0f921"
             ]
            ],
            "type": "heatmapgl"
           }
          ],
          "histogram": [
           {
            "marker": {
             "pattern": {
              "fillmode": "overlay",
              "size": 10,
              "solidity": 0.2
             }
            },
            "type": "histogram"
           }
          ],
          "histogram2d": [
           {
            "colorbar": {
             "outlinewidth": 0,
             "ticks": ""
            },
            "colorscale": [
             [
              0,
              "#0d0887"
             ],
             [
              0.1111111111111111,
              "#46039f"
             ],
             [
              0.2222222222222222,
              "#7201a8"
             ],
             [
              0.3333333333333333,
              "#9c179e"
             ],
             [
              0.4444444444444444,
              "#bd3786"
             ],
             [
              0.5555555555555556,
              "#d8576b"
             ],
             [
              0.6666666666666666,
              "#ed7953"
             ],
             [
              0.7777777777777778,
              "#fb9f3a"
             ],
             [
              0.8888888888888888,
              "#fdca26"
             ],
             [
              1,
              "#f0f921"
             ]
            ],
            "type": "histogram2d"
           }
          ],
          "histogram2dcontour": [
           {
            "colorbar": {
             "outlinewidth": 0,
             "ticks": ""
            },
            "colorscale": [
             [
              0,
              "#0d0887"
             ],
             [
              0.1111111111111111,
              "#46039f"
             ],
             [
              0.2222222222222222,
              "#7201a8"
             ],
             [
              0.3333333333333333,
              "#9c179e"
             ],
             [
              0.4444444444444444,
              "#bd3786"
             ],
             [
              0.5555555555555556,
              "#d8576b"
             ],
             [
              0.6666666666666666,
              "#ed7953"
             ],
             [
              0.7777777777777778,
              "#fb9f3a"
             ],
             [
              0.8888888888888888,
              "#fdca26"
             ],
             [
              1,
              "#f0f921"
             ]
            ],
            "type": "histogram2dcontour"
           }
          ],
          "mesh3d": [
           {
            "colorbar": {
             "outlinewidth": 0,
             "ticks": ""
            },
            "type": "mesh3d"
           }
          ],
          "parcoords": [
           {
            "line": {
             "colorbar": {
              "outlinewidth": 0,
              "ticks": ""
             }
            },
            "type": "parcoords"
           }
          ],
          "pie": [
           {
            "automargin": true,
            "type": "pie"
           }
          ],
          "scatter": [
           {
            "fillpattern": {
             "fillmode": "overlay",
             "size": 10,
             "solidity": 0.2
            },
            "type": "scatter"
           }
          ],
          "scatter3d": [
           {
            "line": {
             "colorbar": {
              "outlinewidth": 0,
              "ticks": ""
             }
            },
            "marker": {
             "colorbar": {
              "outlinewidth": 0,
              "ticks": ""
             }
            },
            "type": "scatter3d"
           }
          ],
          "scattercarpet": [
           {
            "marker": {
             "colorbar": {
              "outlinewidth": 0,
              "ticks": ""
             }
            },
            "type": "scattercarpet"
           }
          ],
          "scattergeo": [
           {
            "marker": {
             "colorbar": {
              "outlinewidth": 0,
              "ticks": ""
             }
            },
            "type": "scattergeo"
           }
          ],
          "scattergl": [
           {
            "marker": {
             "colorbar": {
              "outlinewidth": 0,
              "ticks": ""
             }
            },
            "type": "scattergl"
           }
          ],
          "scattermapbox": [
           {
            "marker": {
             "colorbar": {
              "outlinewidth": 0,
              "ticks": ""
             }
            },
            "type": "scattermapbox"
           }
          ],
          "scatterpolar": [
           {
            "marker": {
             "colorbar": {
              "outlinewidth": 0,
              "ticks": ""
             }
            },
            "type": "scatterpolar"
           }
          ],
          "scatterpolargl": [
           {
            "marker": {
             "colorbar": {
              "outlinewidth": 0,
              "ticks": ""
             }
            },
            "type": "scatterpolargl"
           }
          ],
          "scatterternary": [
           {
            "marker": {
             "colorbar": {
              "outlinewidth": 0,
              "ticks": ""
             }
            },
            "type": "scatterternary"
           }
          ],
          "surface": [
           {
            "colorbar": {
             "outlinewidth": 0,
             "ticks": ""
            },
            "colorscale": [
             [
              0,
              "#0d0887"
             ],
             [
              0.1111111111111111,
              "#46039f"
             ],
             [
              0.2222222222222222,
              "#7201a8"
             ],
             [
              0.3333333333333333,
              "#9c179e"
             ],
             [
              0.4444444444444444,
              "#bd3786"
             ],
             [
              0.5555555555555556,
              "#d8576b"
             ],
             [
              0.6666666666666666,
              "#ed7953"
             ],
             [
              0.7777777777777778,
              "#fb9f3a"
             ],
             [
              0.8888888888888888,
              "#fdca26"
             ],
             [
              1,
              "#f0f921"
             ]
            ],
            "type": "surface"
           }
          ],
          "table": [
           {
            "cells": {
             "fill": {
              "color": "#EBF0F8"
             },
             "line": {
              "color": "white"
             }
            },
            "header": {
             "fill": {
              "color": "#C8D4E3"
             },
             "line": {
              "color": "white"
             }
            },
            "type": "table"
           }
          ]
         },
         "layout": {
          "annotationdefaults": {
           "arrowcolor": "#2a3f5f",
           "arrowhead": 0,
           "arrowwidth": 1
          },
          "autotypenumbers": "strict",
          "coloraxis": {
           "colorbar": {
            "outlinewidth": 0,
            "ticks": ""
           }
          },
          "colorscale": {
           "diverging": [
            [
             0,
             "#8e0152"
            ],
            [
             0.1,
             "#c51b7d"
            ],
            [
             0.2,
             "#de77ae"
            ],
            [
             0.3,
             "#f1b6da"
            ],
            [
             0.4,
             "#fde0ef"
            ],
            [
             0.5,
             "#f7f7f7"
            ],
            [
             0.6,
             "#e6f5d0"
            ],
            [
             0.7,
             "#b8e186"
            ],
            [
             0.8,
             "#7fbc41"
            ],
            [
             0.9,
             "#4d9221"
            ],
            [
             1,
             "#276419"
            ]
           ],
           "sequential": [
            [
             0,
             "#0d0887"
            ],
            [
             0.1111111111111111,
             "#46039f"
            ],
            [
             0.2222222222222222,
             "#7201a8"
            ],
            [
             0.3333333333333333,
             "#9c179e"
            ],
            [
             0.4444444444444444,
             "#bd3786"
            ],
            [
             0.5555555555555556,
             "#d8576b"
            ],
            [
             0.6666666666666666,
             "#ed7953"
            ],
            [
             0.7777777777777778,
             "#fb9f3a"
            ],
            [
             0.8888888888888888,
             "#fdca26"
            ],
            [
             1,
             "#f0f921"
            ]
           ],
           "sequentialminus": [
            [
             0,
             "#0d0887"
            ],
            [
             0.1111111111111111,
             "#46039f"
            ],
            [
             0.2222222222222222,
             "#7201a8"
            ],
            [
             0.3333333333333333,
             "#9c179e"
            ],
            [
             0.4444444444444444,
             "#bd3786"
            ],
            [
             0.5555555555555556,
             "#d8576b"
            ],
            [
             0.6666666666666666,
             "#ed7953"
            ],
            [
             0.7777777777777778,
             "#fb9f3a"
            ],
            [
             0.8888888888888888,
             "#fdca26"
            ],
            [
             1,
             "#f0f921"
            ]
           ]
          },
          "colorway": [
           "#636efa",
           "#EF553B",
           "#00cc96",
           "#ab63fa",
           "#FFA15A",
           "#19d3f3",
           "#FF6692",
           "#B6E880",
           "#FF97FF",
           "#FECB52"
          ],
          "font": {
           "color": "#2a3f5f"
          },
          "geo": {
           "bgcolor": "white",
           "lakecolor": "white",
           "landcolor": "white",
           "showlakes": true,
           "showland": true,
           "subunitcolor": "#C8D4E3"
          },
          "hoverlabel": {
           "align": "left"
          },
          "hovermode": "closest",
          "mapbox": {
           "style": "light"
          },
          "paper_bgcolor": "white",
          "plot_bgcolor": "white",
          "polar": {
           "angularaxis": {
            "gridcolor": "#EBF0F8",
            "linecolor": "#EBF0F8",
            "ticks": ""
           },
           "bgcolor": "white",
           "radialaxis": {
            "gridcolor": "#EBF0F8",
            "linecolor": "#EBF0F8",
            "ticks": ""
           }
          },
          "scene": {
           "xaxis": {
            "backgroundcolor": "white",
            "gridcolor": "#DFE8F3",
            "gridwidth": 2,
            "linecolor": "#EBF0F8",
            "showbackground": true,
            "ticks": "",
            "zerolinecolor": "#EBF0F8"
           },
           "yaxis": {
            "backgroundcolor": "white",
            "gridcolor": "#DFE8F3",
            "gridwidth": 2,
            "linecolor": "#EBF0F8",
            "showbackground": true,
            "ticks": "",
            "zerolinecolor": "#EBF0F8"
           },
           "zaxis": {
            "backgroundcolor": "white",
            "gridcolor": "#DFE8F3",
            "gridwidth": 2,
            "linecolor": "#EBF0F8",
            "showbackground": true,
            "ticks": "",
            "zerolinecolor": "#EBF0F8"
           }
          },
          "shapedefaults": {
           "line": {
            "color": "#2a3f5f"
           }
          },
          "ternary": {
           "aaxis": {
            "gridcolor": "#DFE8F3",
            "linecolor": "#A2B1C6",
            "ticks": ""
           },
           "baxis": {
            "gridcolor": "#DFE8F3",
            "linecolor": "#A2B1C6",
            "ticks": ""
           },
           "bgcolor": "white",
           "caxis": {
            "gridcolor": "#DFE8F3",
            "linecolor": "#A2B1C6",
            "ticks": ""
           }
          },
          "title": {
           "x": 0.05
          },
          "xaxis": {
           "automargin": true,
           "gridcolor": "#EBF0F8",
           "linecolor": "#EBF0F8",
           "ticks": "",
           "title": {
            "standoff": 15
           },
           "zerolinecolor": "#EBF0F8",
           "zerolinewidth": 2
          },
          "yaxis": {
           "automargin": true,
           "gridcolor": "#EBF0F8",
           "linecolor": "#EBF0F8",
           "ticks": "",
           "title": {
            "standoff": 15
           },
           "zerolinecolor": "#EBF0F8",
           "zerolinewidth": 2
          }
         }
        },
        "title": {
         "font": {
          "color": "Black",
          "size": 22
         },
         "text": "Topic Word Scores",
         "x": 0.5,
         "xanchor": "center",
         "yanchor": "top"
        },
        "width": 1000,
        "xaxis": {
         "anchor": "y",
         "autorange": true,
         "domain": [
          0,
          0.175
         ],
         "range": [
          0,
          0.09933975462237146
         ],
         "showgrid": true,
         "type": "linear"
        },
        "xaxis2": {
         "anchor": "y2",
         "autorange": true,
         "domain": [
          0.275,
          0.45
         ],
         "range": [
          0,
          0.21291887232201268
         ],
         "showgrid": true,
         "type": "linear"
        },
        "xaxis3": {
         "anchor": "y3",
         "autorange": true,
         "domain": [
          0.55,
          0.7250000000000001
         ],
         "range": [
          0,
          0.29197560357303337
         ],
         "showgrid": true,
         "type": "linear"
        },
        "xaxis4": {
         "anchor": "y4",
         "autorange": true,
         "domain": [
          0.825,
          1
         ],
         "range": [
          0,
          0.21087142196801528
         ],
         "showgrid": true,
         "type": "linear"
        },
        "yaxis": {
         "anchor": "x",
         "autorange": true,
         "domain": [
          0,
          1
         ],
         "range": [
          -0.5,
          4.5
         ],
         "showgrid": true,
         "type": "category"
        },
        "yaxis2": {
         "anchor": "x2",
         "autorange": true,
         "domain": [
          0,
          1
         ],
         "range": [
          -0.5,
          4.5
         ],
         "showgrid": true,
         "type": "category"
        },
        "yaxis3": {
         "anchor": "x3",
         "autorange": true,
         "domain": [
          0,
          1
         ],
         "range": [
          -0.5,
          4.5
         ],
         "showgrid": true,
         "type": "category"
        },
        "yaxis4": {
         "anchor": "x4",
         "autorange": true,
         "domain": [
          0,
          1
         ],
         "range": [
          -0.5,
          4.5
         ],
         "showgrid": true,
         "type": "category"
        }
       }
      },
      "image/png": "[encoded data removed]",
      "text/html": [
       "<div>                            <div id=\"a1985511-9d6d-4526-b62e-5b21cc36da78\" class=\"plotly-graph-div\" style=\"height:325.0px; width:1000px;\"></div>            <script type=\"text/javascript\">                require([\"plotly\"], function(Plotly) {                    window.PLOTLYENV=window.PLOTLYENV || {};                                    if (document.getElementById(\"a1985511-9d6d-4526-b62e-5b21cc36da78\")) {                    Plotly.newPlot(                        \"a1985511-9d6d-4526-b62e-5b21cc36da78\",                        [{\"marker\":{\"color\":\"#D55E00\"},\"orientation\":\"h\",\"x\":[0.01768302139032489,0.017823183059709303,0.020120242830782373,0.021026430434698703,0.09437276689125289],\"y\":[\"democrats  \",\"vote  \",\"political  \",\"news  \",\"politics  \"],\"type\":\"bar\",\"xaxis\":\"x\",\"yaxis\":\"y\"},{\"marker\":{\"color\":\"#0072B2\"},\"orientation\":\"h\",\"x\":[0.06899045884540296,0.0928816896000152,0.12204471534480948,0.1298998884192967,0.20227292870591204],\"y\":[\"putin  \",\"politics  \",\"war  \",\"russia  \",\"ukraine  \"],\"type\":\"bar\",\"xaxis\":\"x2\",\"yaxis\":\"y2\"},{\"marker\":{\"color\":\"#CC79A7\"},\"orientation\":\"h\",\"x\":[0.08002125178420429,0.08087856056017231,0.10450301330248964,0.14886748550861265,0.2773768233943817],\"y\":[\"new  \",\"link  \",\"spreaker  \",\"episode  \",\"podcast  \"],\"type\":\"bar\",\"xaxis\":\"x3\",\"yaxis\":\"y3\"},{\"marker\":{\"color\":\"#E69F00\"},\"orientation\":\"h\",\"x\":[0.1280698022349302,0.13404286866309142,0.13830815697324197,0.16769834821554852,0.20032785086961452],\"y\":[\"getting  \",\"amp  \",\"politics  \",\"pastors  \",\"religion  \"],\"type\":\"bar\",\"xaxis\":\"x4\",\"yaxis\":\"y4\"}],                        {\"template\":{\"data\":{\"barpolar\":[{\"marker\":{\"line\":{\"color\":\"white\",\"width\":0.5},\"pattern\":{\"fillmode\":\"overlay\",\"size\":10,\"solidity\":0.2}},\"type\":\"barpolar\"}],\"bar\":[{\"error_x\":{\"color\":\"#2a3f5f\"},\"error_y\":{\"color\":\"#2a3f5f\"},\"marker\":{\"line\":{\"color\":\"white\",\"width\":0.5},\"pattern\":{\"fillmode\":\"overlay\",\"size\":10,\"solidity\":0.2}},\"type\":\"bar\"}],\"carpet\":[{\"aaxis\":{\"endlinecolor\":\"#2a3f5f\",\"gridcolor\":\"#C8D4E3\",\"linecolor\":\"#C8D4E3\",\"minorgridcolor\":\"#C8D4E3\",\"startlinecolor\":\"#2a3f5f\"},\"baxis\":{\"endlinecolor\":\"#2a3f5f\",\"gridcolor\":\"#C8D4E3\",\"linecolor\":\"#C8D4E3\",\"minorgridcolor\":\"#C8D4E3\",\"startlinecolor\":\"#2a3f5f\"},\"type\":\"carpet\"}],\"choropleth\":[{\"colorbar\":{\"outlinewidth\":0,\"ticks\":\"\"},\"type\":\"choropleth\"}],\"contourcarpet\":[{\"colorbar\":{\"outlinewidth\":0,\"ticks\":\"\"},\"type\":\"contourcarpet\"}],\"contour\":[{\"colorbar\":{\"outlinewidth\":0,\"ticks\":\"\"},\"colorscale\":[[0.0,\"#0d0887\"],[0.1111111111111111,\"#46039f\"],[0.2222222222222222,\"#7201a8\"],[0.3333333333333333,\"#9c179e\"],[0.4444444444444444,\"#bd3786\"],[0.5555555555555556,\"#d8576b\"],[0.6666666666666666,\"#ed7953\"],[0.7777777777777778,\"#fb9f3a\"],[0.8888888888888888,\"#fdca26\"],[1.0,\"#f0f921\"]],\"type\":\"contour\"}],\"heatmapgl\":[{\"colorbar\":{\"outlinewidth\":0,\"ticks\":\"\"},\"colorscale\":[[0.0,\"#0d0887\"],[0.1111111111111111,\"#46039f\"],[0.2222222222222222,\"#7201a8\"],[0.3333333333333333,\"#9c179e\"],[0.4444444444444444,\"#bd3786\"],[0.5555555555555556,\"#d8576b\"],[0.6666666666666666,\"#ed7953\"],[0.7777777777777778,\"#fb9f3a\"],[0.8888888888888888,\"#fdca26\"],[1.0,\"#f0f921\"]],\"type\":\"heatmapgl\"}],\"heatmap\":[{\"colorbar\":{\"outlinewidth\":0,\"ticks\":\"\"},\"colorscale\":[[0.0,\"#0d0887\"],[0.1111111111111111,\"#46039f\"],[0.2222222222222222,\"#7201a8\"],[0.3333333333333333,\"#9c179e\"],[0.4444444444444444,\"#bd3786\"],[0.5555555555555556,\"#d8576b\"],[0.6666666666666666,\"#ed7953\"],[0.7777777777777778,\"#fb9f3a\"],[0.8888888888888888,\"#fdca26\"],[1.0,\"#f0f921\"]],\"type\":\"heatmap\"}],\"histogram2dcontour\":[{\"colorbar\":{\"outlinewidth\":0,\"ticks\":\"\"},\"colorscale\":[[0.0,\"#0d0887\"],[0.1111111111111111,\"#46039f\"],[0.2222222222222222,\"#7201a8\"],[0.3333333333333333,\"#9c179e\"],[0.4444444444444444,\"#bd3786\"],[0.5555555555555556,\"#d8576b\"],[0.6666666666666666,\"#ed7953\"],[0.7777777777777778,\"#fb9f3a\"],[0.8888888888888888,\"#fdca26\"],[1.0,\"#f0f921\"]],\"type\":\"histogram2dcontour\"}],\"histogram2d\":[{\"colorbar\":{\"outlinewidth\":0,\"ticks\":\"\"},\"colorscale\":[[0.0,\"#0d0887\"],[0.1111111111111111,\"#46039f\"],[0.2222222222222222,\"#7201a8\"],[0.3333333333333333,\"#9c179e\"],[0.4444444444444444,\"#bd3786\"],[0.5555555555555556,\"#d8576b\"],[0.6666666666666666,\"#ed7953\"],[0.7777777777777778,\"#fb9f3a\"],[0.8888888888888888,\"#fdca26\"],[1.0,\"#f0f921\"]],\"type\":\"histogram2d\"}],\"histogram\":[{\"marker\":{\"pattern\":{\"fillmode\":\"overlay\",\"size\":10,\"solidity\":0.2}},\"type\":\"histogram\"}],\"mesh3d\":[{\"colorbar\":{\"outlinewidth\":0,\"ticks\":\"\"},\"type\":\"mesh3d\"}],\"parcoords\":[{\"line\":{\"colorbar\":{\"outlinewidth\":0,\"ticks\":\"\"}},\"type\":\"parcoords\"}],\"pie\":[{\"automargin\":true,\"type\":\"pie\"}],\"scatter3d\":[{\"line\":{\"colorbar\":{\"outlinewidth\":0,\"ticks\":\"\"}},\"marker\":{\"colorbar\":{\"outlinewidth\":0,\"ticks\":\"\"}},\"type\":\"scatter3d\"}],\"scattercarpet\":[{\"marker\":{\"colorbar\":{\"outlinewidth\":0,\"ticks\":\"\"}},\"type\":\"scattercarpet\"}],\"scattergeo\":[{\"marker\":{\"colorbar\":{\"outlinewidth\":0,\"ticks\":\"\"}},\"type\":\"scattergeo\"}],\"scattergl\":[{\"marker\":{\"colorbar\":{\"outlinewidth\":0,\"ticks\":\"\"}},\"type\":\"scattergl\"}],\"scattermapbox\":[{\"marker\":{\"colorbar\":{\"outlinewidth\":0,\"ticks\":\"\"}},\"type\":\"scattermapbox\"}],\"scatterpolargl\":[{\"marker\":{\"colorbar\":{\"outlinewidth\":0,\"ticks\":\"\"}},\"type\":\"scatterpolargl\"}],\"scatterpolar\":[{\"marker\":{\"colorbar\":{\"outlinewidth\":0,\"ticks\":\"\"}},\"type\":\"scatterpolar\"}],\"scatter\":[{\"fillpattern\":{\"fillmode\":\"overlay\",\"size\":10,\"solidity\":0.2},\"type\":\"scatter\"}],\"scatterternary\":[{\"marker\":{\"colorbar\":{\"outlinewidth\":0,\"ticks\":\"\"}},\"type\":\"scatterternary\"}],\"surface\":[{\"colorbar\":{\"outlinewidth\":0,\"ticks\":\"\"},\"colorscale\":[[0.0,\"#0d0887\"],[0.1111111111111111,\"#46039f\"],[0.2222222222222222,\"#7201a8\"],[0.3333333333333333,\"#9c179e\"],[0.4444444444444444,\"#bd3786\"],[0.5555555555555556,\"#d8576b\"],[0.6666666666666666,\"#ed7953\"],[0.7777777777777778,\"#fb9f3a\"],[0.8888888888888888,\"#fdca26\"],[1.0,\"#f0f921\"]],\"type\":\"surface\"}],\"table\":[{\"cells\":{\"fill\":{\"color\":\"#EBF0F8\"},\"line\":{\"color\":\"white\"}},\"header\":{\"fill\":{\"color\":\"#C8D4E3\"},\"line\":{\"color\":\"white\"}},\"type\":\"table\"}]},\"layout\":{\"annotationdefaults\":{\"arrowcolor\":\"#2a3f5f\",\"arrowhead\":0,\"arrowwidth\":1},\"autotypenumbers\":\"strict\",\"coloraxis\":{\"colorbar\":{\"outlinewidth\":0,\"ticks\":\"\"}},\"colorscale\":{\"diverging\":[[0,\"#8e0152\"],[0.1,\"#c51b7d\"],[0.2,\"#de77ae\"],[0.3,\"#f1b6da\"],[0.4,\"#fde0ef\"],[0.5,\"#f7f7f7\"],[0.6,\"#e6f5d0\"],[0.7,\"#b8e186\"],[0.8,\"#7fbc41\"],[0.9,\"#4d9221\"],[1,\"#276419\"]],\"sequential\":[[0.0,\"#0d0887\"],[0.1111111111111111,\"#46039f\"],[0.2222222222222222,\"#7201a8\"],[0.3333333333333333,\"#9c179e\"],[0.4444444444444444,\"#bd3786\"],[0.5555555555555556,\"#d8576b\"],[0.6666666666666666,\"#ed7953\"],[0.7777777777777778,\"#fb9f3a\"],[0.8888888888888888,\"#fdca26\"],[1.0,\"#f0f921\"]],\"sequentialminus\":[[0.0,\"#0d0887\"],[0.1111111111111111,\"#46039f\"],[0.2222222222222222,\"#7201a8\"],[0.3333333333333333,\"#9c179e\"],[0.4444444444444444,\"#bd3786\"],[0.5555555555555556,\"#d8576b\"],[0.6666666666666666,\"#ed7953\"],[0.7777777777777778,\"#fb9f3a\"],[0.8888888888888888,\"#fdca26\"],[1.0,\"#f0f921\"]]},\"colorway\":[\"#636efa\",\"#EF553B\",\"#00cc96\",\"#ab63fa\",\"#FFA15A\",\"#19d3f3\",\"#FF6692\",\"#B6E880\",\"#FF97FF\",\"#FECB52\"],\"font\":{\"color\":\"#2a3f5f\"},\"geo\":{\"bgcolor\":\"white\",\"lakecolor\":\"white\",\"landcolor\":\"white\",\"showlakes\":true,\"showland\":true,\"subunitcolor\":\"#C8D4E3\"},\"hoverlabel\":{\"align\":\"left\"},\"hovermode\":\"closest\",\"mapbox\":{\"style\":\"light\"},\"paper_bgcolor\":\"white\",\"plot_bgcolor\":\"white\",\"polar\":{\"angularaxis\":{\"gridcolor\":\"#EBF0F8\",\"linecolor\":\"#EBF0F8\",\"ticks\":\"\"},\"bgcolor\":\"white\",\"radialaxis\":{\"gridcolor\":\"#EBF0F8\",\"linecolor\":\"#EBF0F8\",\"ticks\":\"\"}},\"scene\":{\"xaxis\":{\"backgroundcolor\":\"white\",\"gridcolor\":\"#DFE8F3\",\"gridwidth\":2,\"linecolor\":\"#EBF0F8\",\"showbackground\":true,\"ticks\":\"\",\"zerolinecolor\":\"#EBF0F8\"},\"yaxis\":{\"backgroundcolor\":\"white\",\"gridcolor\":\"#DFE8F3\",\"gridwidth\":2,\"linecolor\":\"#EBF0F8\",\"showbackground\":true,\"ticks\":\"\",\"zerolinecolor\":\"#EBF0F8\"},\"zaxis\":{\"backgroundcolor\":\"white\",\"gridcolor\":\"#DFE8F3\",\"gridwidth\":2,\"linecolor\":\"#EBF0F8\",\"showbackground\":true,\"ticks\":\"\",\"zerolinecolor\":\"#EBF0F8\"}},\"shapedefaults\":{\"line\":{\"color\":\"#2a3f5f\"}},\"ternary\":{\"aaxis\":{\"gridcolor\":\"#DFE8F3\",\"linecolor\":\"#A2B1C6\",\"ticks\":\"\"},\"baxis\":{\"gridcolor\":\"#DFE8F3\",\"linecolor\":\"#A2B1C6\",\"ticks\":\"\"},\"bgcolor\":\"white\",\"caxis\":{\"gridcolor\":\"#DFE8F3\",\"linecolor\":\"#A2B1C6\",\"ticks\":\"\"}},\"title\":{\"x\":0.05},\"xaxis\":{\"automargin\":true,\"gridcolor\":\"#EBF0F8\",\"linecolor\":\"#EBF0F8\",\"ticks\":\"\",\"title\":{\"standoff\":15},\"zerolinecolor\":\"#EBF0F8\",\"zerolinewidth\":2},\"yaxis\":{\"automargin\":true,\"gridcolor\":\"#EBF0F8\",\"linecolor\":\"#EBF0F8\",\"ticks\":\"\",\"title\":{\"standoff\":15},\"zerolinecolor\":\"#EBF0F8\",\"zerolinewidth\":2}}},\"xaxis\":{\"anchor\":\"y\",\"domain\":[0.0,0.175],\"showgrid\":true},\"yaxis\":{\"anchor\":\"x\",\"domain\":[0.0,1.0],\"showgrid\":true},\"xaxis2\":{\"anchor\":\"y2\",\"domain\":[0.275,0.45],\"showgrid\":true},\"yaxis2\":{\"anchor\":\"x2\",\"domain\":[0.0,1.0],\"showgrid\":true},\"xaxis3\":{\"anchor\":\"y3\",\"domain\":[0.55,0.7250000000000001],\"showgrid\":true},\"yaxis3\":{\"anchor\":\"x3\",\"domain\":[0.0,1.0],\"showgrid\":true},\"xaxis4\":{\"anchor\":\"y4\",\"domain\":[0.825,1.0],\"showgrid\":true},\"yaxis4\":{\"anchor\":\"x4\",\"domain\":[0.0,1.0],\"showgrid\":true},\"annotations\":[{\"font\":{\"size\":16},\"showarrow\":false,\"text\":\"Topic 0\",\"x\":0.0875,\"xanchor\":\"center\",\"xref\":\"paper\",\"y\":1.0,\"yanchor\":\"bottom\",\"yref\":\"paper\"},{\"font\":{\"size\":16},\"showarrow\":false,\"text\":\"Topic 1\",\"x\":0.36250000000000004,\"xanchor\":\"center\",\"xref\":\"paper\",\"y\":1.0,\"yanchor\":\"bottom\",\"yref\":\"paper\"},{\"font\":{\"size\":16},\"showarrow\":false,\"text\":\"Topic 2\",\"x\":0.6375000000000001,\"xanchor\":\"center\",\"xref\":\"paper\",\"y\":1.0,\"yanchor\":\"bottom\",\"yref\":\"paper\"},{\"font\":{\"size\":16},\"showarrow\":false,\"text\":\"Topic 3\",\"x\":0.9125,\"xanchor\":\"center\",\"xref\":\"paper\",\"y\":1.0,\"yanchor\":\"bottom\",\"yref\":\"paper\"}],\"title\":{\"font\":{\"size\":22,\"color\":\"Black\"},\"text\":\"Topic Word Scores\",\"x\":0.5,\"xanchor\":\"center\",\"yanchor\":\"top\"},\"hoverlabel\":{\"font\":{\"size\":16,\"family\":\"Rockwell\"},\"bgcolor\":\"white\"},\"showlegend\":false,\"width\":1000,\"height\":325.0},                        {\"responsive\": true}                    ).then(function(){\n",
       "                            \n",
       "var gd = document.getElementById('a1985511-9d6d-4526-b62e-5b21cc36da78');\n",
       "var x = new MutationObserver(function (mutations, observer) {{\n",
       "        var display = window.getComputedStyle(gd).display;\n",
       "        if (!display || display === 'none') {{\n",
       "            console.log([gd, 'removed!']);\n",
       "            Plotly.purge(gd);\n",
       "            observer.disconnect();\n",
       "        }}\n",
       "}});\n",
       "\n",
       "// Listen for the removal of the full notebook cells\n",
       "var notebookContainer = gd.closest('#notebook-container');\n",
       "if (notebookContainer) {{\n",
       "    x.observe(notebookContainer, {childList: true});\n",
       "}}\n",
       "\n",
       "// Listen for the clearing of the current output cell\n",
       "var outputEl = gd.closest('.output');\n",
       "if (outputEl) {{\n",
       "    x.observe(outputEl, {childList: true});\n",
       "}}\n",
       "\n",
       "                        })                };                });            </script>        </div>"
      ]
     },
     "metadata": {},
     "output_type": "display_data"
    }
   ],
   "source": [
    "citizen_model.visualize_barchart(top_n_topics=10)"
   ]
  },
  {
   "cell_type": "code",
   "execution_count": 250,
   "id": "98f9e9d1-8809-4e1c-9801-174bdae900d3",
   "metadata": {},
   "outputs": [
    {
     "name": "stdout",
     "output_type": "stream",
     "text": [
      "Top 3 Topics for Citizen Tweets:\n",
      "\n",
      "Topic 0 - ('politics', 0.09437276689125289)\n",
      "1: Comment your opinion below… #netnews #news #trending #share #follow #media #politics #trump #news #india #conservative #republican #usa #election #maga #america #memes https://t.co/xHWxFZAfFK\n",
      "2: Why are you a democrat #Politics https://t.co/GNyXxAyJUR\n",
      "3: Is it unfair for the #Senate to give only two people to each state? Short video here:\n",
      "\n",
      "https://t.co/irT8WxPuSt\n",
      "\n",
      "#news #politics #government #Congress #democrat #republican #democrats #republicans #conservative #liberal #GOP #Trump #MAGA #TrumpCult #DemocratsSaveLives\n",
      "\n",
      "Topic 1 - ('ukraine', 0.20227292870591204)\n",
      "1: What Russia’s War means for the International Space Station\n",
      "International Space Station The International Space Station has been orbiting above us for the last 20 years. It’s been home[…] #Ukraine #Space #tech #Politics #geopolitics \n",
      "\n",
      "Full Story :  https://t.co/jBRo6uOzJf https://t.co/mku4yWsXUQ\n",
      "2: @JoeBiden Who else knows about the future war between Russia and Ukraine? Biden is going to give up Ukraine to Russia, Taiwan to China, as he gave up Afghanistan to the Taliban. #Politics #TotalDisclosure https://t.co/INQEFBSCA5\n",
      "3: @KremlinRussia_E #Putin I understand it’s a war for power against #Ukraine who join with  #NATO and #USA. #Ukraine or #Russia don’t do war. Don’t go war only do Military fight. If it’s #war #Ukrainian ll #die . @JoeBiden please don’t #oilandgas #politics\n",
      "\n",
      "Topic 2 - ('podcast', 0.2773768233943817)\n",
      "1: 📣 New Podcast! \"Episode 3: Alderwoman Maria Hadden, Ward 49\" on @Spreaker #alderman #chicago #chicagopolitics #cps #democrat #government #illinois #interview #lakeview #localpolitics #mariahadden #policy #politics #publicpolicy #publicschools https://t.co/dzDrE4HzGh\n",
      "2: https://t.co/SoNGxlkffm\n",
      "\n",
      "Just finished Episode #7 of American Brain Rot Podcast w/ @abr_podcast We getting better at this podcast shit! spoke about Trump campaign Finances, Charlie Kirk’s dumb ass takes on Ukraine, @SenTomCotton being an idiot &amp; more! #americanbrainrot #politics\n",
      "3: 📣 New Podcast! \"Episode 128: Dirty Macking/\" on @Spreaker #dating #drake #justlisten #podcast #politics https://t.co/x1aK3Gr4ZU\n"
     ]
    }
   ],
   "source": [
    "# For Citizen Topics\n",
    "# Get topic information, skipping topic -1 (outliers)\n",
    "citizen_topic_info = citizen_model.get_topic_info()\n",
    "top_citizen_topics = citizen_topic_info[citizen_topic_info['Topic'] != -1].head(3)['Topic']\n",
    "\n",
    "print(\"Top 3 Topics for Citizen Tweets:\")\n",
    "for topic in top_citizen_topics:\n",
    "    print(f\"\\nTopic {topic} - {citizen_model.get_topic(topic)[0]}\")\n",
    "    representative_docs = citizen_model.get_representative_docs(topic)\n",
    "    for i, doc in enumerate(representative_docs[:5]):  # Print top 5 representative tweets for each topic\n",
    "        print(f\"{i+1}: {doc}\")"
   ]
  },
  {
   "cell_type": "code",
   "execution_count": 251,
   "id": "920eaded-4f45-4f6d-aac7-3f8fc0cde2ab",
   "metadata": {},
   "outputs": [
    {
     "name": "stderr",
     "output_type": "stream",
     "text": [
      "2024-10-13 18:12:00,247 - BERTopic - Embedding - Transforming documents to embeddings.\n"
     ]
    },
    {
     "data": {
      "application/vnd.jupyter.widget-view+json": {
       "model_id": "5e32266ad59b49cb831fa7c900460086",
       "version_major": 2,
       "version_minor": 0
      },
      "text/plain": [
       "Batches:   0%|          | 0/18 [00:00<?, ?it/s]"
      ]
     },
     "metadata": {},
     "output_type": "display_data"
    },
    {
     "name": "stderr",
     "output_type": "stream",
     "text": [
      "2024-10-13 18:12:07,665 - BERTopic - Embedding - Completed ✓\n",
      "2024-10-13 18:12:07,665 - BERTopic - Dimensionality - Fitting the dimensionality reduction algorithm\n",
      "2024-10-13 18:12:08,649 - BERTopic - Dimensionality - Completed ✓\n",
      "2024-10-13 18:12:08,649 - BERTopic - Cluster - Start clustering the reduced embeddings\n",
      "2024-10-13 18:12:08,658 - BERTopic - Cluster - Completed ✓\n",
      "2024-10-13 18:12:08,659 - BERTopic - Representation - Extracting topics from clusters using representation models.\n",
      "2024-10-13 18:12:08,678 - BERTopic - Representation - Completed ✓\n"
     ]
    }
   ],
   "source": [
    "politician_model = BERTopic(umap_model=umap_model, vectorizer_model=vectorizer_model, min_topic_size=5, verbose=True)\n",
    "politician_topics, politician_probs = politician_model.fit_transform(politician_tweets)"
   ]
  },
  {
   "cell_type": "code",
   "execution_count": 252,
   "id": "828abbc6-045b-456d-82f9-9890687a6aae",
   "metadata": {},
   "outputs": [
    {
     "name": "stdout",
     "output_type": "stream",
     "text": [
      "   Topic  Count                                   Name  \\\n",
      "0     -1    314                  -1_amp_today_rt_great   \n",
      "1      0     35        0_rt_nomination_scotus_housegop   \n",
      "2      1     31  1_repthomasmassie_rt_questions_chavez   \n",
      "3      2     26       2_rt_hearing_natresources_animal   \n",
      "4      3     17        3_aca_care_obamacare_healthcare   \n",
      "\n",
      "                                      Representation  \\\n",
      "0  [amp, today, rt, great, jobs, veterans, new, h...   \n",
      "1  [rt, nomination, scotus, housegop, senategops,...   \n",
      "2  [repthomasmassie, rt, questions, chavez, vp, v...   \n",
      "3  [rt, hearing, natresources, animal, case, cae,...   \n",
      "4  [aca, care, obamacare, healthcare, medicaid, p...   \n",
      "\n",
      "                                 Representative_Docs  \n",
      "0  [Join me tmrw 1:30 PM at Comsewogue High Schoo...  \n",
      "1  [RT @DailyReport: Leahy Tells NY Times Boggs' ...  \n",
      "2  [RT @CAPAC: .@CAPAC Chair @RepJudyChu w/Paul &...  \n",
      "3  [TODAY at 10 am ET: Hearing on Trump Treasury ...  \n",
      "4  [RT @janschakowsky: Medicaid rationing threate...  \n"
     ]
    }
   ],
   "source": [
    "topic_info = politician_model.get_topic_info()\n",
    "print(topic_info.head())"
   ]
  },
  {
   "cell_type": "code",
   "execution_count": 253,
   "id": "24846b43-5e69-4ed6-b3d6-871cee7ff0b8",
   "metadata": {},
   "outputs": [
    {
     "data": {
      "application/vnd.plotly.v1+json": {
       "config": {
        "plotlyServerURL": "https://plot.ly"
       },
       "data": [
        {
         "marker": {
          "color": "#D55E00"
         },
         "orientation": "h",
         "type": "bar",
         "x": [
          0.02741682970937117,
          0.03549781426464206,
          0.03782885669542016,
          0.03782885669542016,
          0.044492589469500896
         ],
         "xaxis": "x",
         "y": [
          "senategops  ",
          "housegop  ",
          "scotus  ",
          "nomination  ",
          "rt  "
         ],
         "yaxis": "y"
        },
        {
         "marker": {
          "color": "#0072B2"
         },
         "orientation": "h",
         "type": "bar",
         "x": [
          0.0320592960818845,
          0.0320592960818845,
          0.03940134694095825,
          0.052026478421205516,
          0.07537045941324585
         ],
         "xaxis": "x2",
         "y": [
          "vp  ",
          "chavez  ",
          "questions  ",
          "rt  ",
          "repthomasmassie  "
         ],
         "yaxis": "y2"
        },
        {
         "marker": {
          "color": "#CC79A7"
         },
         "orientation": "h",
         "type": "bar",
         "x": [
          0.03413115535248248,
          0.03413115535248248,
          0.03413115535248248,
          0.03504068576005251,
          0.041541550372034
         ],
         "xaxis": "x3",
         "y": [
          "case  ",
          "animal  ",
          "natresources  ",
          "hearing  ",
          "rt  "
         ],
         "yaxis": "y3"
        },
        {
         "marker": {
          "color": "#E69F00"
         },
         "orientation": "h",
         "type": "bar",
         "x": [
          0.057340340992170565,
          0.06740272513241702,
          0.06740272513241702,
          0.07109338642955416,
          0.09396283118110425
         ],
         "xaxis": "x4",
         "y": [
          "medicaid  ",
          "healthcare  ",
          "obamacare  ",
          "care  ",
          "aca  "
         ],
         "yaxis": "y4"
        },
        {
         "marker": {
          "color": "#56B4E9"
         },
         "orientation": "h",
         "type": "bar",
         "x": [
          0.04493787610038485,
          0.05009848556029318,
          0.05342614089841643,
          0.055686877158449236,
          0.07901228089472322
         ],
         "xaxis": "x5",
         "y": [
          "httptcoagtfwm0qau  ",
          "country  ",
          "rt  ",
          "state  ",
          "newportbeach  "
         ],
         "yaxis": "y5"
        },
        {
         "marker": {
          "color": "#009E73"
         },
         "orientation": "h",
         "type": "bar",
         "x": [
          0.07212059410830371,
          0.0759777778997602,
          0.08802245327745481,
          0.08802245327745481,
          0.08802245327745481
         ],
         "xaxis": "x6",
         "y": [
          "america  ",
          "chief  ",
          "ryan  ",
          "remain  ",
          "moments  "
         ],
         "yaxis": "y6"
        },
        {
         "marker": {
          "color": "#F0E442"
         },
         "orientation": "h",
         "type": "bar",
         "x": [
          0.05141540779053041,
          0.05604208389717107,
          0.0904014385011698,
          0.0904014385011698,
          0.106265557641198
         ],
         "xaxis": "x7",
         "y": [
          "feed  ",
          "americans  ",
          "steel  ",
          "iron  ",
          "reform  "
         ],
         "yaxis": "y7"
        },
        {
         "marker": {
          "color": "#D55E00"
         },
         "orientation": "h",
         "type": "bar",
         "x": [
          0.06071393898669016,
          0.06071393898669016,
          0.08044548081982732,
          0.08044548081982732,
          0.09819405354981403
         ],
         "xaxis": "x8",
         "y": [
          "msnbc  ",
          "enforcement  ",
          "legislation  ",
          "passed  ",
          "nsa  "
         ],
         "yaxis": "y8"
        },
        {
         "marker": {
          "color": "#0072B2"
         },
         "orientation": "h",
         "type": "bar",
         "x": [
          0.07216564692982706,
          0.07450322941415792,
          0.07716199180677313,
          0.08838231306706798,
          0.09418613299676039
         ],
         "xaxis": "x9",
         "y": [
          "years  ",
          "world  ",
          "far  ",
          "fight  ",
          "terror  "
         ],
         "yaxis": "y9"
        },
        {
         "marker": {
          "color": "#CC79A7"
         },
         "orientation": "h",
         "type": "bar",
         "x": [
          0.07707368961792556,
          0.08262996969035369,
          0.09820617139043855,
          0.1896445839633111,
          0.3214651545055933
         ],
         "xaxis": "x10",
         "y": [
          "amp  ",
          "morning  ",
          "family  ",
          "thoughts  ",
          "prayers  "
         ],
         "yaxis": "y10"
        }
       ],
       "layout": {
        "annotations": [
         {
          "font": {
           "size": 16
          },
          "showarrow": false,
          "text": "Topic 0",
          "x": 0.0875,
          "xanchor": "center",
          "xref": "paper",
          "y": 1,
          "yanchor": "bottom",
          "yref": "paper"
         },
         {
          "font": {
           "size": 16
          },
          "showarrow": false,
          "text": "Topic 1",
          "x": 0.36250000000000004,
          "xanchor": "center",
          "xref": "paper",
          "y": 1,
          "yanchor": "bottom",
          "yref": "paper"
         },
         {
          "font": {
           "size": 16
          },
          "showarrow": false,
          "text": "Topic 2",
          "x": 0.6375000000000001,
          "xanchor": "center",
          "xref": "paper",
          "y": 1,
          "yanchor": "bottom",
          "yref": "paper"
         },
         {
          "font": {
           "size": 16
          },
          "showarrow": false,
          "text": "Topic 3",
          "x": 0.9125,
          "xanchor": "center",
          "xref": "paper",
          "y": 1,
          "yanchor": "bottom",
          "yref": "paper"
         },
         {
          "font": {
           "size": 16
          },
          "showarrow": false,
          "text": "Topic 4",
          "x": 0.0875,
          "xanchor": "center",
          "xref": "paper",
          "y": 0.6222222222222222,
          "yanchor": "bottom",
          "yref": "paper"
         },
         {
          "font": {
           "size": 16
          },
          "showarrow": false,
          "text": "Topic 5",
          "x": 0.36250000000000004,
          "xanchor": "center",
          "xref": "paper",
          "y": 0.6222222222222222,
          "yanchor": "bottom",
          "yref": "paper"
         },
         {
          "font": {
           "size": 16
          },
          "showarrow": false,
          "text": "Topic 6",
          "x": 0.6375000000000001,
          "xanchor": "center",
          "xref": "paper",
          "y": 0.6222222222222222,
          "yanchor": "bottom",
          "yref": "paper"
         },
         {
          "font": {
           "size": 16
          },
          "showarrow": false,
          "text": "Topic 7",
          "x": 0.9125,
          "xanchor": "center",
          "xref": "paper",
          "y": 0.6222222222222222,
          "yanchor": "bottom",
          "yref": "paper"
         },
         {
          "font": {
           "size": 16
          },
          "showarrow": false,
          "text": "Topic 8",
          "x": 0.0875,
          "xanchor": "center",
          "xref": "paper",
          "y": 0.24444444444444446,
          "yanchor": "bottom",
          "yref": "paper"
         },
         {
          "font": {
           "size": 16
          },
          "showarrow": false,
          "text": "Topic 9",
          "x": 0.36250000000000004,
          "xanchor": "center",
          "xref": "paper",
          "y": 0.24444444444444446,
          "yanchor": "bottom",
          "yref": "paper"
         }
        ],
        "height": 750,
        "hoverlabel": {
         "bgcolor": "white",
         "font": {
          "family": "Rockwell",
          "size": 16
         }
        },
        "showlegend": false,
        "template": {
         "data": {
          "bar": [
           {
            "error_x": {
             "color": "#2a3f5f"
            },
            "error_y": {
             "color": "#2a3f5f"
            },
            "marker": {
             "line": {
              "color": "white",
              "width": 0.5
             },
             "pattern": {
              "fillmode": "overlay",
              "size": 10,
              "solidity": 0.2
             }
            },
            "type": "bar"
           }
          ],
          "barpolar": [
           {
            "marker": {
             "line": {
              "color": "white",
              "width": 0.5
             },
             "pattern": {
              "fillmode": "overlay",
              "size": 10,
              "solidity": 0.2
             }
            },
            "type": "barpolar"
           }
          ],
          "carpet": [
           {
            "aaxis": {
             "endlinecolor": "#2a3f5f",
             "gridcolor": "#C8D4E3",
             "linecolor": "#C8D4E3",
             "minorgridcolor": "#C8D4E3",
             "startlinecolor": "#2a3f5f"
            },
            "baxis": {
             "endlinecolor": "#2a3f5f",
             "gridcolor": "#C8D4E3",
             "linecolor": "#C8D4E3",
             "minorgridcolor": "#C8D4E3",
             "startlinecolor": "#2a3f5f"
            },
            "type": "carpet"
           }
          ],
          "choropleth": [
           {
            "colorbar": {
             "outlinewidth": 0,
             "ticks": ""
            },
            "type": "choropleth"
           }
          ],
          "contour": [
           {
            "colorbar": {
             "outlinewidth": 0,
             "ticks": ""
            },
            "colorscale": [
             [
              0,
              "#0d0887"
             ],
             [
              0.1111111111111111,
              "#46039f"
             ],
             [
              0.2222222222222222,
              "#7201a8"
             ],
             [
              0.3333333333333333,
              "#9c179e"
             ],
             [
              0.4444444444444444,
              "#bd3786"
             ],
             [
              0.5555555555555556,
              "#d8576b"
             ],
             [
              0.6666666666666666,
              "#ed7953"
             ],
             [
              0.7777777777777778,
              "#fb9f3a"
             ],
             [
              0.8888888888888888,
              "#fdca26"
             ],
             [
              1,
              "#f0f921"
             ]
            ],
            "type": "contour"
           }
          ],
          "contourcarpet": [
           {
            "colorbar": {
             "outlinewidth": 0,
             "ticks": ""
            },
            "type": "contourcarpet"
           }
          ],
          "heatmap": [
           {
            "colorbar": {
             "outlinewidth": 0,
             "ticks": ""
            },
            "colorscale": [
             [
              0,
              "#0d0887"
             ],
             [
              0.1111111111111111,
              "#46039f"
             ],
             [
              0.2222222222222222,
              "#7201a8"
             ],
             [
              0.3333333333333333,
              "#9c179e"
             ],
             [
              0.4444444444444444,
              "#bd3786"
             ],
             [
              0.5555555555555556,
              "#d8576b"
             ],
             [
              0.6666666666666666,
              "#ed7953"
             ],
             [
              0.7777777777777778,
              "#fb9f3a"
             ],
             [
              0.8888888888888888,
              "#fdca26"
             ],
             [
              1,
              "#f0f921"
             ]
            ],
            "type": "heatmap"
           }
          ],
          "heatmapgl": [
           {
            "colorbar": {
             "outlinewidth": 0,
             "ticks": ""
            },
            "colorscale": [
             [
              0,
              "#0d0887"
             ],
             [
              0.1111111111111111,
              "#46039f"
             ],
             [
              0.2222222222222222,
              "#7201a8"
             ],
             [
              0.3333333333333333,
              "#9c179e"
             ],
             [
              0.4444444444444444,
              "#bd3786"
             ],
             [
              0.5555555555555556,
              "#d8576b"
             ],
             [
              0.6666666666666666,
              "#ed7953"
             ],
             [
              0.7777777777777778,
              "#fb9f3a"
             ],
             [
              0.8888888888888888,
              "#fdca26"
             ],
             [
              1,
              "#f0f921"
             ]
            ],
            "type": "heatmapgl"
           }
          ],
          "histogram": [
           {
            "marker": {
             "pattern": {
              "fillmode": "overlay",
              "size": 10,
              "solidity": 0.2
             }
            },
            "type": "histogram"
           }
          ],
          "histogram2d": [
           {
            "colorbar": {
             "outlinewidth": 0,
             "ticks": ""
            },
            "colorscale": [
             [
              0,
              "#0d0887"
             ],
             [
              0.1111111111111111,
              "#46039f"
             ],
             [
              0.2222222222222222,
              "#7201a8"
             ],
             [
              0.3333333333333333,
              "#9c179e"
             ],
             [
              0.4444444444444444,
              "#bd3786"
             ],
             [
              0.5555555555555556,
              "#d8576b"
             ],
             [
              0.6666666666666666,
              "#ed7953"
             ],
             [
              0.7777777777777778,
              "#fb9f3a"
             ],
             [
              0.8888888888888888,
              "#fdca26"
             ],
             [
              1,
              "#f0f921"
             ]
            ],
            "type": "histogram2d"
           }
          ],
          "histogram2dcontour": [
           {
            "colorbar": {
             "outlinewidth": 0,
             "ticks": ""
            },
            "colorscale": [
             [
              0,
              "#0d0887"
             ],
             [
              0.1111111111111111,
              "#46039f"
             ],
             [
              0.2222222222222222,
              "#7201a8"
             ],
             [
              0.3333333333333333,
              "#9c179e"
             ],
             [
              0.4444444444444444,
              "#bd3786"
             ],
             [
              0.5555555555555556,
              "#d8576b"
             ],
             [
              0.6666666666666666,
              "#ed7953"
             ],
             [
              0.7777777777777778,
              "#fb9f3a"
             ],
             [
              0.8888888888888888,
              "#fdca26"
             ],
             [
              1,
              "#f0f921"
             ]
            ],
            "type": "histogram2dcontour"
           }
          ],
          "mesh3d": [
           {
            "colorbar": {
             "outlinewidth": 0,
             "ticks": ""
            },
            "type": "mesh3d"
           }
          ],
          "parcoords": [
           {
            "line": {
             "colorbar": {
              "outlinewidth": 0,
              "ticks": ""
             }
            },
            "type": "parcoords"
           }
          ],
          "pie": [
           {
            "automargin": true,
            "type": "pie"
           }
          ],
          "scatter": [
           {
            "fillpattern": {
             "fillmode": "overlay",
             "size": 10,
             "solidity": 0.2
            },
            "type": "scatter"
           }
          ],
          "scatter3d": [
           {
            "line": {
             "colorbar": {
              "outlinewidth": 0,
              "ticks": ""
             }
            },
            "marker": {
             "colorbar": {
              "outlinewidth": 0,
              "ticks": ""
             }
            },
            "type": "scatter3d"
           }
          ],
          "scattercarpet": [
           {
            "marker": {
             "colorbar": {
              "outlinewidth": 0,
              "ticks": ""
             }
            },
            "type": "scattercarpet"
           }
          ],
          "scattergeo": [
           {
            "marker": {
             "colorbar": {
              "outlinewidth": 0,
              "ticks": ""
             }
            },
            "type": "scattergeo"
           }
          ],
          "scattergl": [
           {
            "marker": {
             "colorbar": {
              "outlinewidth": 0,
              "ticks": ""
             }
            },
            "type": "scattergl"
           }
          ],
          "scattermapbox": [
           {
            "marker": {
             "colorbar": {
              "outlinewidth": 0,
              "ticks": ""
             }
            },
            "type": "scattermapbox"
           }
          ],
          "scatterpolar": [
           {
            "marker": {
             "colorbar": {
              "outlinewidth": 0,
              "ticks": ""
             }
            },
            "type": "scatterpolar"
           }
          ],
          "scatterpolargl": [
           {
            "marker": {
             "colorbar": {
              "outlinewidth": 0,
              "ticks": ""
             }
            },
            "type": "scatterpolargl"
           }
          ],
          "scatterternary": [
           {
            "marker": {
             "colorbar": {
              "outlinewidth": 0,
              "ticks": ""
             }
            },
            "type": "scatterternary"
           }
          ],
          "surface": [
           {
            "colorbar": {
             "outlinewidth": 0,
             "ticks": ""
            },
            "colorscale": [
             [
              0,
              "#0d0887"
             ],
             [
              0.1111111111111111,
              "#46039f"
             ],
             [
              0.2222222222222222,
              "#7201a8"
             ],
             [
              0.3333333333333333,
              "#9c179e"
             ],
             [
              0.4444444444444444,
              "#bd3786"
             ],
             [
              0.5555555555555556,
              "#d8576b"
             ],
             [
              0.6666666666666666,
              "#ed7953"
             ],
             [
              0.7777777777777778,
              "#fb9f3a"
             ],
             [
              0.8888888888888888,
              "#fdca26"
             ],
             [
              1,
              "#f0f921"
             ]
            ],
            "type": "surface"
           }
          ],
          "table": [
           {
            "cells": {
             "fill": {
              "color": "#EBF0F8"
             },
             "line": {
              "color": "white"
             }
            },
            "header": {
             "fill": {
              "color": "#C8D4E3"
             },
             "line": {
              "color": "white"
             }
            },
            "type": "table"
           }
          ]
         },
         "layout": {
          "annotationdefaults": {
           "arrowcolor": "#2a3f5f",
           "arrowhead": 0,
           "arrowwidth": 1
          },
          "autotypenumbers": "strict",
          "coloraxis": {
           "colorbar": {
            "outlinewidth": 0,
            "ticks": ""
           }
          },
          "colorscale": {
           "diverging": [
            [
             0,
             "#8e0152"
            ],
            [
             0.1,
             "#c51b7d"
            ],
            [
             0.2,
             "#de77ae"
            ],
            [
             0.3,
             "#f1b6da"
            ],
            [
             0.4,
             "#fde0ef"
            ],
            [
             0.5,
             "#f7f7f7"
            ],
            [
             0.6,
             "#e6f5d0"
            ],
            [
             0.7,
             "#b8e186"
            ],
            [
             0.8,
             "#7fbc41"
            ],
            [
             0.9,
             "#4d9221"
            ],
            [
             1,
             "#276419"
            ]
           ],
           "sequential": [
            [
             0,
             "#0d0887"
            ],
            [
             0.1111111111111111,
             "#46039f"
            ],
            [
             0.2222222222222222,
             "#7201a8"
            ],
            [
             0.3333333333333333,
             "#9c179e"
            ],
            [
             0.4444444444444444,
             "#bd3786"
            ],
            [
             0.5555555555555556,
             "#d8576b"
            ],
            [
             0.6666666666666666,
             "#ed7953"
            ],
            [
             0.7777777777777778,
             "#fb9f3a"
            ],
            [
             0.8888888888888888,
             "#fdca26"
            ],
            [
             1,
             "#f0f921"
            ]
           ],
           "sequentialminus": [
            [
             0,
             "#0d0887"
            ],
            [
             0.1111111111111111,
             "#46039f"
            ],
            [
             0.2222222222222222,
             "#7201a8"
            ],
            [
             0.3333333333333333,
             "#9c179e"
            ],
            [
             0.4444444444444444,
             "#bd3786"
            ],
            [
             0.5555555555555556,
             "#d8576b"
            ],
            [
             0.6666666666666666,
             "#ed7953"
            ],
            [
             0.7777777777777778,
             "#fb9f3a"
            ],
            [
             0.8888888888888888,
             "#fdca26"
            ],
            [
             1,
             "#f0f921"
            ]
           ]
          },
          "colorway": [
           "#636efa",
           "#EF553B",
           "#00cc96",
           "#ab63fa",
           "#FFA15A",
           "#19d3f3",
           "#FF6692",
           "#B6E880",
           "#FF97FF",
           "#FECB52"
          ],
          "font": {
           "color": "#2a3f5f"
          },
          "geo": {
           "bgcolor": "white",
           "lakecolor": "white",
           "landcolor": "white",
           "showlakes": true,
           "showland": true,
           "subunitcolor": "#C8D4E3"
          },
          "hoverlabel": {
           "align": "left"
          },
          "hovermode": "closest",
          "mapbox": {
           "style": "light"
          },
          "paper_bgcolor": "white",
          "plot_bgcolor": "white",
          "polar": {
           "angularaxis": {
            "gridcolor": "#EBF0F8",
            "linecolor": "#EBF0F8",
            "ticks": ""
           },
           "bgcolor": "white",
           "radialaxis": {
            "gridcolor": "#EBF0F8",
            "linecolor": "#EBF0F8",
            "ticks": ""
           }
          },
          "scene": {
           "xaxis": {
            "backgroundcolor": "white",
            "gridcolor": "#DFE8F3",
            "gridwidth": 2,
            "linecolor": "#EBF0F8",
            "showbackground": true,
            "ticks": "",
            "zerolinecolor": "#EBF0F8"
           },
           "yaxis": {
            "backgroundcolor": "white",
            "gridcolor": "#DFE8F3",
            "gridwidth": 2,
            "linecolor": "#EBF0F8",
            "showbackground": true,
            "ticks": "",
            "zerolinecolor": "#EBF0F8"
           },
           "zaxis": {
            "backgroundcolor": "white",
            "gridcolor": "#DFE8F3",
            "gridwidth": 2,
            "linecolor": "#EBF0F8",
            "showbackground": true,
            "ticks": "",
            "zerolinecolor": "#EBF0F8"
           }
          },
          "shapedefaults": {
           "line": {
            "color": "#2a3f5f"
           }
          },
          "ternary": {
           "aaxis": {
            "gridcolor": "#DFE8F3",
            "linecolor": "#A2B1C6",
            "ticks": ""
           },
           "baxis": {
            "gridcolor": "#DFE8F3",
            "linecolor": "#A2B1C6",
            "ticks": ""
           },
           "bgcolor": "white",
           "caxis": {
            "gridcolor": "#DFE8F3",
            "linecolor": "#A2B1C6",
            "ticks": ""
           }
          },
          "title": {
           "x": 0.05
          },
          "xaxis": {
           "automargin": true,
           "gridcolor": "#EBF0F8",
           "linecolor": "#EBF0F8",
           "ticks": "",
           "title": {
            "standoff": 15
           },
           "zerolinecolor": "#EBF0F8",
           "zerolinewidth": 2
          },
          "yaxis": {
           "automargin": true,
           "gridcolor": "#EBF0F8",
           "linecolor": "#EBF0F8",
           "ticks": "",
           "title": {
            "standoff": 15
           },
           "zerolinecolor": "#EBF0F8",
           "zerolinewidth": 2
          }
         }
        },
        "title": {
         "font": {
          "color": "Black",
          "size": 22
         },
         "text": "Topic Word Scores",
         "x": 0.5,
         "xanchor": "center",
         "yanchor": "top"
        },
        "width": 1000,
        "xaxis": {
         "anchor": "y",
         "autorange": true,
         "domain": [
          0,
          0.175
         ],
         "range": [
          0,
          0.04683430470473778
         ],
         "showgrid": true,
         "type": "linear"
        },
        "xaxis10": {
         "anchor": "y10",
         "autorange": true,
         "domain": [
          0.275,
          0.45
         ],
         "range": [
          0,
          0.33838437316378245
         ],
         "showgrid": true,
         "type": "linear"
        },
        "xaxis11": {
         "anchor": "y11",
         "domain": [
          0.55,
          0.7250000000000001
         ],
         "showgrid": true
        },
        "xaxis12": {
         "anchor": "y12",
         "domain": [
          0.825,
          1
         ],
         "showgrid": true
        },
        "xaxis2": {
         "anchor": "y2",
         "autorange": true,
         "domain": [
          0.275,
          0.45
         ],
         "range": [
          0,
          0.07933732569815354
         ],
         "showgrid": true,
         "type": "linear"
        },
        "xaxis3": {
         "anchor": "y3",
         "autorange": true,
         "domain": [
          0.55,
          0.7250000000000001
         ],
         "range": [
          0,
          0.04372794776003579
         ],
         "showgrid": true,
         "type": "linear"
        },
        "xaxis4": {
         "anchor": "y4",
         "autorange": true,
         "domain": [
          0.825,
          1
         ],
         "range": [
          0,
          0.0989082433485308
         ],
         "showgrid": true,
         "type": "linear"
        },
        "xaxis5": {
         "anchor": "y5",
         "autorange": true,
         "domain": [
          0,
          0.175
         ],
         "range": [
          0,
          0.08317082199444549
         ],
         "showgrid": true,
         "type": "linear"
        },
        "xaxis6": {
         "anchor": "y6",
         "autorange": true,
         "domain": [
          0.275,
          0.45
         ],
         "range": [
          0,
          0.09265521397626822
         ],
         "showgrid": true,
         "type": "linear"
        },
        "xaxis7": {
         "anchor": "y7",
         "autorange": true,
         "domain": [
          0.55,
          0.7250000000000001
         ],
         "range": [
          0,
          0.11185848172757684
         ],
         "showgrid": true,
         "type": "linear"
        },
        "xaxis8": {
         "anchor": "y8",
         "autorange": true,
         "domain": [
          0.825,
          1
         ],
         "range": [
          0,
          0.10336216163138319
         ],
         "showgrid": true,
         "type": "linear"
        },
        "xaxis9": {
         "anchor": "y9",
         "autorange": true,
         "domain": [
          0,
          0.175
         ],
         "range": [
          0,
          0.09914329789132673
         ],
         "showgrid": true,
         "type": "linear"
        },
        "yaxis": {
         "anchor": "x",
         "autorange": true,
         "domain": [
          0.7555555555555555,
          1
         ],
         "range": [
          -0.5,
          4.5
         ],
         "showgrid": true,
         "type": "category"
        },
        "yaxis10": {
         "anchor": "x10",
         "autorange": true,
         "domain": [
          0,
          0.24444444444444446
         ],
         "range": [
          -0.5,
          4.5
         ],
         "showgrid": true,
         "type": "category"
        },
        "yaxis11": {
         "anchor": "x11",
         "domain": [
          0,
          0.24444444444444446
         ],
         "showgrid": true
        },
        "yaxis12": {
         "anchor": "x12",
         "domain": [
          0,
          0.24444444444444446
         ],
         "showgrid": true
        },
        "yaxis2": {
         "anchor": "x2",
         "autorange": true,
         "domain": [
          0.7555555555555555,
          1
         ],
         "range": [
          -0.5,
          4.5
         ],
         "showgrid": true,
         "type": "category"
        },
        "yaxis3": {
         "anchor": "x3",
         "autorange": true,
         "domain": [
          0.7555555555555555,
          1
         ],
         "range": [
          -0.5,
          4.5
         ],
         "showgrid": true,
         "type": "category"
        },
        "yaxis4": {
         "anchor": "x4",
         "autorange": true,
         "domain": [
          0.7555555555555555,
          1
         ],
         "range": [
          -0.5,
          4.5
         ],
         "showgrid": true,
         "type": "category"
        },
        "yaxis5": {
         "anchor": "x5",
         "autorange": true,
         "domain": [
          0.37777777777777777,
          0.6222222222222222
         ],
         "range": [
          -0.5,
          4.5
         ],
         "showgrid": true,
         "type": "category"
        },
        "yaxis6": {
         "anchor": "x6",
         "autorange": true,
         "domain": [
          0.37777777777777777,
          0.6222222222222222
         ],
         "range": [
          -0.5,
          4.5
         ],
         "showgrid": true,
         "type": "category"
        },
        "yaxis7": {
         "anchor": "x7",
         "autorange": true,
         "domain": [
          0.37777777777777777,
          0.6222222222222222
         ],
         "range": [
          -0.5,
          4.5
         ],
         "showgrid": true,
         "type": "category"
        },
        "yaxis8": {
         "anchor": "x8",
         "autorange": true,
         "domain": [
          0.37777777777777777,
          0.6222222222222222
         ],
         "range": [
          -0.5,
          4.5
         ],
         "showgrid": true,
         "type": "category"
        },
        "yaxis9": {
         "anchor": "x9",
         "autorange": true,
         "domain": [
          0,
          0.24444444444444446
         ],
         "range": [
          -0.5,
          4.5
         ],
         "showgrid": true,
         "type": "category"
        }
       }
      },
      "image/png": "[encoded data removed]",
      "text/html": [
       "<div>                            <div id=\"a6044452-54e9-4ac5-9704-bba302acda7c\" class=\"plotly-graph-div\" style=\"height:750px; width:1000px;\"></div>            <script type=\"text/javascript\">                require([\"plotly\"], function(Plotly) {                    window.PLOTLYENV=window.PLOTLYENV || {};                                    if (document.getElementById(\"a6044452-54e9-4ac5-9704-bba302acda7c\")) {                    Plotly.newPlot(                        \"a6044452-54e9-4ac5-9704-bba302acda7c\",                        [{\"marker\":{\"color\":\"#D55E00\"},\"orientation\":\"h\",\"x\":[0.02741682970937117,0.03549781426464206,0.03782885669542016,0.03782885669542016,0.044492589469500896],\"y\":[\"senategops  \",\"housegop  \",\"scotus  \",\"nomination  \",\"rt  \"],\"type\":\"bar\",\"xaxis\":\"x\",\"yaxis\":\"y\"},{\"marker\":{\"color\":\"#0072B2\"},\"orientation\":\"h\",\"x\":[0.0320592960818845,0.0320592960818845,0.03940134694095825,0.052026478421205516,0.07537045941324585],\"y\":[\"vp  \",\"chavez  \",\"questions  \",\"rt  \",\"repthomasmassie  \"],\"type\":\"bar\",\"xaxis\":\"x2\",\"yaxis\":\"y2\"},{\"marker\":{\"color\":\"#CC79A7\"},\"orientation\":\"h\",\"x\":[0.03413115535248248,0.03413115535248248,0.03413115535248248,0.03504068576005251,0.041541550372034],\"y\":[\"case  \",\"animal  \",\"natresources  \",\"hearing  \",\"rt  \"],\"type\":\"bar\",\"xaxis\":\"x3\",\"yaxis\":\"y3\"},{\"marker\":{\"color\":\"#E69F00\"},\"orientation\":\"h\",\"x\":[0.057340340992170565,0.06740272513241702,0.06740272513241702,0.07109338642955416,0.09396283118110425],\"y\":[\"medicaid  \",\"healthcare  \",\"obamacare  \",\"care  \",\"aca  \"],\"type\":\"bar\",\"xaxis\":\"x4\",\"yaxis\":\"y4\"},{\"marker\":{\"color\":\"#56B4E9\"},\"orientation\":\"h\",\"x\":[0.04493787610038485,0.05009848556029318,0.05342614089841643,0.055686877158449236,0.07901228089472322],\"y\":[\"httptcoagtfwm0qau  \",\"country  \",\"rt  \",\"state  \",\"newportbeach  \"],\"type\":\"bar\",\"xaxis\":\"x5\",\"yaxis\":\"y5\"},{\"marker\":{\"color\":\"#009E73\"},\"orientation\":\"h\",\"x\":[0.07212059410830371,0.0759777778997602,0.08802245327745481,0.08802245327745481,0.08802245327745481],\"y\":[\"america  \",\"chief  \",\"ryan  \",\"remain  \",\"moments  \"],\"type\":\"bar\",\"xaxis\":\"x6\",\"yaxis\":\"y6\"},{\"marker\":{\"color\":\"#F0E442\"},\"orientation\":\"h\",\"x\":[0.05141540779053041,0.05604208389717107,0.0904014385011698,0.0904014385011698,0.106265557641198],\"y\":[\"feed  \",\"americans  \",\"steel  \",\"iron  \",\"reform  \"],\"type\":\"bar\",\"xaxis\":\"x7\",\"yaxis\":\"y7\"},{\"marker\":{\"color\":\"#D55E00\"},\"orientation\":\"h\",\"x\":[0.06071393898669016,0.06071393898669016,0.08044548081982732,0.08044548081982732,0.09819405354981403],\"y\":[\"msnbc  \",\"enforcement  \",\"legislation  \",\"passed  \",\"nsa  \"],\"type\":\"bar\",\"xaxis\":\"x8\",\"yaxis\":\"y8\"},{\"marker\":{\"color\":\"#0072B2\"},\"orientation\":\"h\",\"x\":[0.07216564692982706,0.07450322941415792,0.07716199180677313,0.08838231306706798,0.09418613299676039],\"y\":[\"years  \",\"world  \",\"far  \",\"fight  \",\"terror  \"],\"type\":\"bar\",\"xaxis\":\"x9\",\"yaxis\":\"y9\"},{\"marker\":{\"color\":\"#CC79A7\"},\"orientation\":\"h\",\"x\":[0.07707368961792556,0.08262996969035369,0.09820617139043855,0.1896445839633111,0.3214651545055933],\"y\":[\"amp  \",\"morning  \",\"family  \",\"thoughts  \",\"prayers  \"],\"type\":\"bar\",\"xaxis\":\"x10\",\"yaxis\":\"y10\"}],                        {\"template\":{\"data\":{\"barpolar\":[{\"marker\":{\"line\":{\"color\":\"white\",\"width\":0.5},\"pattern\":{\"fillmode\":\"overlay\",\"size\":10,\"solidity\":0.2}},\"type\":\"barpolar\"}],\"bar\":[{\"error_x\":{\"color\":\"#2a3f5f\"},\"error_y\":{\"color\":\"#2a3f5f\"},\"marker\":{\"line\":{\"color\":\"white\",\"width\":0.5},\"pattern\":{\"fillmode\":\"overlay\",\"size\":10,\"solidity\":0.2}},\"type\":\"bar\"}],\"carpet\":[{\"aaxis\":{\"endlinecolor\":\"#2a3f5f\",\"gridcolor\":\"#C8D4E3\",\"linecolor\":\"#C8D4E3\",\"minorgridcolor\":\"#C8D4E3\",\"startlinecolor\":\"#2a3f5f\"},\"baxis\":{\"endlinecolor\":\"#2a3f5f\",\"gridcolor\":\"#C8D4E3\",\"linecolor\":\"#C8D4E3\",\"minorgridcolor\":\"#C8D4E3\",\"startlinecolor\":\"#2a3f5f\"},\"type\":\"carpet\"}],\"choropleth\":[{\"colorbar\":{\"outlinewidth\":0,\"ticks\":\"\"},\"type\":\"choropleth\"}],\"contourcarpet\":[{\"colorbar\":{\"outlinewidth\":0,\"ticks\":\"\"},\"type\":\"contourcarpet\"}],\"contour\":[{\"colorbar\":{\"outlinewidth\":0,\"ticks\":\"\"},\"colorscale\":[[0.0,\"#0d0887\"],[0.1111111111111111,\"#46039f\"],[0.2222222222222222,\"#7201a8\"],[0.3333333333333333,\"#9c179e\"],[0.4444444444444444,\"#bd3786\"],[0.5555555555555556,\"#d8576b\"],[0.6666666666666666,\"#ed7953\"],[0.7777777777777778,\"#fb9f3a\"],[0.8888888888888888,\"#fdca26\"],[1.0,\"#f0f921\"]],\"type\":\"contour\"}],\"heatmapgl\":[{\"colorbar\":{\"outlinewidth\":0,\"ticks\":\"\"},\"colorscale\":[[0.0,\"#0d0887\"],[0.1111111111111111,\"#46039f\"],[0.2222222222222222,\"#7201a8\"],[0.3333333333333333,\"#9c179e\"],[0.4444444444444444,\"#bd3786\"],[0.5555555555555556,\"#d8576b\"],[0.6666666666666666,\"#ed7953\"],[0.7777777777777778,\"#fb9f3a\"],[0.8888888888888888,\"#fdca26\"],[1.0,\"#f0f921\"]],\"type\":\"heatmapgl\"}],\"heatmap\":[{\"colorbar\":{\"outlinewidth\":0,\"ticks\":\"\"},\"colorscale\":[[0.0,\"#0d0887\"],[0.1111111111111111,\"#46039f\"],[0.2222222222222222,\"#7201a8\"],[0.3333333333333333,\"#9c179e\"],[0.4444444444444444,\"#bd3786\"],[0.5555555555555556,\"#d8576b\"],[0.6666666666666666,\"#ed7953\"],[0.7777777777777778,\"#fb9f3a\"],[0.8888888888888888,\"#fdca26\"],[1.0,\"#f0f921\"]],\"type\":\"heatmap\"}],\"histogram2dcontour\":[{\"colorbar\":{\"outlinewidth\":0,\"ticks\":\"\"},\"colorscale\":[[0.0,\"#0d0887\"],[0.1111111111111111,\"#46039f\"],[0.2222222222222222,\"#7201a8\"],[0.3333333333333333,\"#9c179e\"],[0.4444444444444444,\"#bd3786\"],[0.5555555555555556,\"#d8576b\"],[0.6666666666666666,\"#ed7953\"],[0.7777777777777778,\"#fb9f3a\"],[0.8888888888888888,\"#fdca26\"],[1.0,\"#f0f921\"]],\"type\":\"histogram2dcontour\"}],\"histogram2d\":[{\"colorbar\":{\"outlinewidth\":0,\"ticks\":\"\"},\"colorscale\":[[0.0,\"#0d0887\"],[0.1111111111111111,\"#46039f\"],[0.2222222222222222,\"#7201a8\"],[0.3333333333333333,\"#9c179e\"],[0.4444444444444444,\"#bd3786\"],[0.5555555555555556,\"#d8576b\"],[0.6666666666666666,\"#ed7953\"],[0.7777777777777778,\"#fb9f3a\"],[0.8888888888888888,\"#fdca26\"],[1.0,\"#f0f921\"]],\"type\":\"histogram2d\"}],\"histogram\":[{\"marker\":{\"pattern\":{\"fillmode\":\"overlay\",\"size\":10,\"solidity\":0.2}},\"type\":\"histogram\"}],\"mesh3d\":[{\"colorbar\":{\"outlinewidth\":0,\"ticks\":\"\"},\"type\":\"mesh3d\"}],\"parcoords\":[{\"line\":{\"colorbar\":{\"outlinewidth\":0,\"ticks\":\"\"}},\"type\":\"parcoords\"}],\"pie\":[{\"automargin\":true,\"type\":\"pie\"}],\"scatter3d\":[{\"line\":{\"colorbar\":{\"outlinewidth\":0,\"ticks\":\"\"}},\"marker\":{\"colorbar\":{\"outlinewidth\":0,\"ticks\":\"\"}},\"type\":\"scatter3d\"}],\"scattercarpet\":[{\"marker\":{\"colorbar\":{\"outlinewidth\":0,\"ticks\":\"\"}},\"type\":\"scattercarpet\"}],\"scattergeo\":[{\"marker\":{\"colorbar\":{\"outlinewidth\":0,\"ticks\":\"\"}},\"type\":\"scattergeo\"}],\"scattergl\":[{\"marker\":{\"colorbar\":{\"outlinewidth\":0,\"ticks\":\"\"}},\"type\":\"scattergl\"}],\"scattermapbox\":[{\"marker\":{\"colorbar\":{\"outlinewidth\":0,\"ticks\":\"\"}},\"type\":\"scattermapbox\"}],\"scatterpolargl\":[{\"marker\":{\"colorbar\":{\"outlinewidth\":0,\"ticks\":\"\"}},\"type\":\"scatterpolargl\"}],\"scatterpolar\":[{\"marker\":{\"colorbar\":{\"outlinewidth\":0,\"ticks\":\"\"}},\"type\":\"scatterpolar\"}],\"scatter\":[{\"fillpattern\":{\"fillmode\":\"overlay\",\"size\":10,\"solidity\":0.2},\"type\":\"scatter\"}],\"scatterternary\":[{\"marker\":{\"colorbar\":{\"outlinewidth\":0,\"ticks\":\"\"}},\"type\":\"scatterternary\"}],\"surface\":[{\"colorbar\":{\"outlinewidth\":0,\"ticks\":\"\"},\"colorscale\":[[0.0,\"#0d0887\"],[0.1111111111111111,\"#46039f\"],[0.2222222222222222,\"#7201a8\"],[0.3333333333333333,\"#9c179e\"],[0.4444444444444444,\"#bd3786\"],[0.5555555555555556,\"#d8576b\"],[0.6666666666666666,\"#ed7953\"],[0.7777777777777778,\"#fb9f3a\"],[0.8888888888888888,\"#fdca26\"],[1.0,\"#f0f921\"]],\"type\":\"surface\"}],\"table\":[{\"cells\":{\"fill\":{\"color\":\"#EBF0F8\"},\"line\":{\"color\":\"white\"}},\"header\":{\"fill\":{\"color\":\"#C8D4E3\"},\"line\":{\"color\":\"white\"}},\"type\":\"table\"}]},\"layout\":{\"annotationdefaults\":{\"arrowcolor\":\"#2a3f5f\",\"arrowhead\":0,\"arrowwidth\":1},\"autotypenumbers\":\"strict\",\"coloraxis\":{\"colorbar\":{\"outlinewidth\":0,\"ticks\":\"\"}},\"colorscale\":{\"diverging\":[[0,\"#8e0152\"],[0.1,\"#c51b7d\"],[0.2,\"#de77ae\"],[0.3,\"#f1b6da\"],[0.4,\"#fde0ef\"],[0.5,\"#f7f7f7\"],[0.6,\"#e6f5d0\"],[0.7,\"#b8e186\"],[0.8,\"#7fbc41\"],[0.9,\"#4d9221\"],[1,\"#276419\"]],\"sequential\":[[0.0,\"#0d0887\"],[0.1111111111111111,\"#46039f\"],[0.2222222222222222,\"#7201a8\"],[0.3333333333333333,\"#9c179e\"],[0.4444444444444444,\"#bd3786\"],[0.5555555555555556,\"#d8576b\"],[0.6666666666666666,\"#ed7953\"],[0.7777777777777778,\"#fb9f3a\"],[0.8888888888888888,\"#fdca26\"],[1.0,\"#f0f921\"]],\"sequentialminus\":[[0.0,\"#0d0887\"],[0.1111111111111111,\"#46039f\"],[0.2222222222222222,\"#7201a8\"],[0.3333333333333333,\"#9c179e\"],[0.4444444444444444,\"#bd3786\"],[0.5555555555555556,\"#d8576b\"],[0.6666666666666666,\"#ed7953\"],[0.7777777777777778,\"#fb9f3a\"],[0.8888888888888888,\"#fdca26\"],[1.0,\"#f0f921\"]]},\"colorway\":[\"#636efa\",\"#EF553B\",\"#00cc96\",\"#ab63fa\",\"#FFA15A\",\"#19d3f3\",\"#FF6692\",\"#B6E880\",\"#FF97FF\",\"#FECB52\"],\"font\":{\"color\":\"#2a3f5f\"},\"geo\":{\"bgcolor\":\"white\",\"lakecolor\":\"white\",\"landcolor\":\"white\",\"showlakes\":true,\"showland\":true,\"subunitcolor\":\"#C8D4E3\"},\"hoverlabel\":{\"align\":\"left\"},\"hovermode\":\"closest\",\"mapbox\":{\"style\":\"light\"},\"paper_bgcolor\":\"white\",\"plot_bgcolor\":\"white\",\"polar\":{\"angularaxis\":{\"gridcolor\":\"#EBF0F8\",\"linecolor\":\"#EBF0F8\",\"ticks\":\"\"},\"bgcolor\":\"white\",\"radialaxis\":{\"gridcolor\":\"#EBF0F8\",\"linecolor\":\"#EBF0F8\",\"ticks\":\"\"}},\"scene\":{\"xaxis\":{\"backgroundcolor\":\"white\",\"gridcolor\":\"#DFE8F3\",\"gridwidth\":2,\"linecolor\":\"#EBF0F8\",\"showbackground\":true,\"ticks\":\"\",\"zerolinecolor\":\"#EBF0F8\"},\"yaxis\":{\"backgroundcolor\":\"white\",\"gridcolor\":\"#DFE8F3\",\"gridwidth\":2,\"linecolor\":\"#EBF0F8\",\"showbackground\":true,\"ticks\":\"\",\"zerolinecolor\":\"#EBF0F8\"},\"zaxis\":{\"backgroundcolor\":\"white\",\"gridcolor\":\"#DFE8F3\",\"gridwidth\":2,\"linecolor\":\"#EBF0F8\",\"showbackground\":true,\"ticks\":\"\",\"zerolinecolor\":\"#EBF0F8\"}},\"shapedefaults\":{\"line\":{\"color\":\"#2a3f5f\"}},\"ternary\":{\"aaxis\":{\"gridcolor\":\"#DFE8F3\",\"linecolor\":\"#A2B1C6\",\"ticks\":\"\"},\"baxis\":{\"gridcolor\":\"#DFE8F3\",\"linecolor\":\"#A2B1C6\",\"ticks\":\"\"},\"bgcolor\":\"white\",\"caxis\":{\"gridcolor\":\"#DFE8F3\",\"linecolor\":\"#A2B1C6\",\"ticks\":\"\"}},\"title\":{\"x\":0.05},\"xaxis\":{\"automargin\":true,\"gridcolor\":\"#EBF0F8\",\"linecolor\":\"#EBF0F8\",\"ticks\":\"\",\"title\":{\"standoff\":15},\"zerolinecolor\":\"#EBF0F8\",\"zerolinewidth\":2},\"yaxis\":{\"automargin\":true,\"gridcolor\":\"#EBF0F8\",\"linecolor\":\"#EBF0F8\",\"ticks\":\"\",\"title\":{\"standoff\":15},\"zerolinecolor\":\"#EBF0F8\",\"zerolinewidth\":2}}},\"xaxis\":{\"anchor\":\"y\",\"domain\":[0.0,0.175],\"showgrid\":true},\"yaxis\":{\"anchor\":\"x\",\"domain\":[0.7555555555555555,1.0],\"showgrid\":true},\"xaxis2\":{\"anchor\":\"y2\",\"domain\":[0.275,0.45],\"showgrid\":true},\"yaxis2\":{\"anchor\":\"x2\",\"domain\":[0.7555555555555555,1.0],\"showgrid\":true},\"xaxis3\":{\"anchor\":\"y3\",\"domain\":[0.55,0.7250000000000001],\"showgrid\":true},\"yaxis3\":{\"anchor\":\"x3\",\"domain\":[0.7555555555555555,1.0],\"showgrid\":true},\"xaxis4\":{\"anchor\":\"y4\",\"domain\":[0.825,1.0],\"showgrid\":true},\"yaxis4\":{\"anchor\":\"x4\",\"domain\":[0.7555555555555555,1.0],\"showgrid\":true},\"xaxis5\":{\"anchor\":\"y5\",\"domain\":[0.0,0.175],\"showgrid\":true},\"yaxis5\":{\"anchor\":\"x5\",\"domain\":[0.37777777777777777,0.6222222222222222],\"showgrid\":true},\"xaxis6\":{\"anchor\":\"y6\",\"domain\":[0.275,0.45],\"showgrid\":true},\"yaxis6\":{\"anchor\":\"x6\",\"domain\":[0.37777777777777777,0.6222222222222222],\"showgrid\":true},\"xaxis7\":{\"anchor\":\"y7\",\"domain\":[0.55,0.7250000000000001],\"showgrid\":true},\"yaxis7\":{\"anchor\":\"x7\",\"domain\":[0.37777777777777777,0.6222222222222222],\"showgrid\":true},\"xaxis8\":{\"anchor\":\"y8\",\"domain\":[0.825,1.0],\"showgrid\":true},\"yaxis8\":{\"anchor\":\"x8\",\"domain\":[0.37777777777777777,0.6222222222222222],\"showgrid\":true},\"xaxis9\":{\"anchor\":\"y9\",\"domain\":[0.0,0.175],\"showgrid\":true},\"yaxis9\":{\"anchor\":\"x9\",\"domain\":[0.0,0.24444444444444446],\"showgrid\":true},\"xaxis10\":{\"anchor\":\"y10\",\"domain\":[0.275,0.45],\"showgrid\":true},\"yaxis10\":{\"anchor\":\"x10\",\"domain\":[0.0,0.24444444444444446],\"showgrid\":true},\"xaxis11\":{\"anchor\":\"y11\",\"domain\":[0.55,0.7250000000000001],\"showgrid\":true},\"yaxis11\":{\"anchor\":\"x11\",\"domain\":[0.0,0.24444444444444446],\"showgrid\":true},\"xaxis12\":{\"anchor\":\"y12\",\"domain\":[0.825,1.0],\"showgrid\":true},\"yaxis12\":{\"anchor\":\"x12\",\"domain\":[0.0,0.24444444444444446],\"showgrid\":true},\"annotations\":[{\"font\":{\"size\":16},\"showarrow\":false,\"text\":\"Topic 0\",\"x\":0.0875,\"xanchor\":\"center\",\"xref\":\"paper\",\"y\":1.0,\"yanchor\":\"bottom\",\"yref\":\"paper\"},{\"font\":{\"size\":16},\"showarrow\":false,\"text\":\"Topic 1\",\"x\":0.36250000000000004,\"xanchor\":\"center\",\"xref\":\"paper\",\"y\":1.0,\"yanchor\":\"bottom\",\"yref\":\"paper\"},{\"font\":{\"size\":16},\"showarrow\":false,\"text\":\"Topic 2\",\"x\":0.6375000000000001,\"xanchor\":\"center\",\"xref\":\"paper\",\"y\":1.0,\"yanchor\":\"bottom\",\"yref\":\"paper\"},{\"font\":{\"size\":16},\"showarrow\":false,\"text\":\"Topic 3\",\"x\":0.9125,\"xanchor\":\"center\",\"xref\":\"paper\",\"y\":1.0,\"yanchor\":\"bottom\",\"yref\":\"paper\"},{\"font\":{\"size\":16},\"showarrow\":false,\"text\":\"Topic 4\",\"x\":0.0875,\"xanchor\":\"center\",\"xref\":\"paper\",\"y\":0.6222222222222222,\"yanchor\":\"bottom\",\"yref\":\"paper\"},{\"font\":{\"size\":16},\"showarrow\":false,\"text\":\"Topic 5\",\"x\":0.36250000000000004,\"xanchor\":\"center\",\"xref\":\"paper\",\"y\":0.6222222222222222,\"yanchor\":\"bottom\",\"yref\":\"paper\"},{\"font\":{\"size\":16},\"showarrow\":false,\"text\":\"Topic 6\",\"x\":0.6375000000000001,\"xanchor\":\"center\",\"xref\":\"paper\",\"y\":0.6222222222222222,\"yanchor\":\"bottom\",\"yref\":\"paper\"},{\"font\":{\"size\":16},\"showarrow\":false,\"text\":\"Topic 7\",\"x\":0.9125,\"xanchor\":\"center\",\"xref\":\"paper\",\"y\":0.6222222222222222,\"yanchor\":\"bottom\",\"yref\":\"paper\"},{\"font\":{\"size\":16},\"showarrow\":false,\"text\":\"Topic 8\",\"x\":0.0875,\"xanchor\":\"center\",\"xref\":\"paper\",\"y\":0.24444444444444446,\"yanchor\":\"bottom\",\"yref\":\"paper\"},{\"font\":{\"size\":16},\"showarrow\":false,\"text\":\"Topic 9\",\"x\":0.36250000000000004,\"xanchor\":\"center\",\"xref\":\"paper\",\"y\":0.24444444444444446,\"yanchor\":\"bottom\",\"yref\":\"paper\"}],\"title\":{\"font\":{\"size\":22,\"color\":\"Black\"},\"text\":\"Topic Word Scores\",\"x\":0.5,\"xanchor\":\"center\",\"yanchor\":\"top\"},\"hoverlabel\":{\"font\":{\"size\":16,\"family\":\"Rockwell\"},\"bgcolor\":\"white\"},\"showlegend\":false,\"width\":1000,\"height\":750},                        {\"responsive\": true}                    ).then(function(){\n",
       "                            \n",
       "var gd = document.getElementById('a6044452-54e9-4ac5-9704-bba302acda7c');\n",
       "var x = new MutationObserver(function (mutations, observer) {{\n",
       "        var display = window.getComputedStyle(gd).display;\n",
       "        if (!display || display === 'none') {{\n",
       "            console.log([gd, 'removed!']);\n",
       "            Plotly.purge(gd);\n",
       "            observer.disconnect();\n",
       "        }}\n",
       "}});\n",
       "\n",
       "// Listen for the removal of the full notebook cells\n",
       "var notebookContainer = gd.closest('#notebook-container');\n",
       "if (notebookContainer) {{\n",
       "    x.observe(notebookContainer, {childList: true});\n",
       "}}\n",
       "\n",
       "// Listen for the clearing of the current output cell\n",
       "var outputEl = gd.closest('.output');\n",
       "if (outputEl) {{\n",
       "    x.observe(outputEl, {childList: true});\n",
       "}}\n",
       "\n",
       "                        })                };                });            </script>        </div>"
      ]
     },
     "metadata": {},
     "output_type": "display_data"
    }
   ],
   "source": [
    "politician_model.visualize_barchart(top_n_topics=10)"
   ]
  },
  {
   "cell_type": "code",
   "execution_count": 254,
   "id": "13f78e82-4169-4670-9920-fa0c29def536",
   "metadata": {},
   "outputs": [
    {
     "name": "stdout",
     "output_type": "stream",
     "text": [
      "\n",
      "Top 3 Topics for Politician Tweets:\n",
      "\n",
      "Topic 0 - ('rt', 0.044492589469500896)\n",
      "1: RT @DailyReport: Leahy Tells NY Times Boggs' Nomination Dead: http://t.co/HD7vbzdAy1  #federaljudiciary @GACourts\n",
      "2: RT @westgov: Speech: @GovMaryFallin signed Oklahoma Water for 2060 Act to \"establish an aggressive goal for water conservation in our state…\n",
      "3: RT @realDonaldTrump: Hope you like my nomination of Judge Neil Gorsuch for the United States Supreme Court. He is a good and brilliant man,…\n",
      "\n",
      "Topic 1 - ('repthomasmassie', 0.07537045941324585)\n",
      "1: RT @CAPAC: .@CAPAC Chair @RepJudyChu w/Paul &amp; Christine Chavez honoring the life &amp; legacy of Cesar Chavez #CHCI http://t.co/F1DP0IGs6h\n",
      "2: RT @PhiladelphiaGov: Mayor Kenney will answer your questions this Friday during the first admin twitter chat! Tweet your questions now usin…\n",
      "3: RT @repjustinamash: #ff @RepThomasMassie @RepThomasMassie @RepThomasMassie @RepThomasMassie @RepThomasMassie @RepThomasMassie @RepThomas ...\n",
      "\n",
      "Topic 2 - ('rt', 0.041541550372034)\n",
      "1: TODAY at 10 am ET: Hearing on Trump Treasury nominee—Steven #Mnuchin\n",
      "\n",
      "Live here &amp; follow @SenateFinance for updates https://t.co/7xgOUhzga4\n",
      "2: RT @Onionista: @TomRooney thanks for the follow Mr. Rooney and esp. thanks for blocking the new regs on ag from Labor Dept. http://t.co/ ...\n",
      "3: Happening Now: Gov. Tomblin joins Intergovernmental Taskforce on Juvenile Justice, @PewStates to launch review of juvenile justice in #WV.\n"
     ]
    }
   ],
   "source": [
    "# For Politician Topics\n",
    "# Get topic information, skipping topic -1 (outliers)\n",
    "politician_topic_info = politician_model.get_topic_info()\n",
    "top_politician_topics = politician_topic_info[politician_topic_info['Topic'] != -1].head(3)['Topic']\n",
    "\n",
    "print(\"\\nTop 3 Topics for Politician Tweets:\")\n",
    "for topic in top_politician_topics:\n",
    "    print(f\"\\nTopic {topic} - {politician_model.get_topic(topic)[0]}\")\n",
    "    representative_docs = politician_model.get_representative_docs(topic)\n",
    "    for i, doc in enumerate(representative_docs[:5]):  # Print top 5 representative tweets for each topic\n",
    "        print(f\"{i+1}: {doc}\")"
   ]
  },
  {
   "cell_type": "markdown",
   "id": "c06067d2-f43c-4371-bfc9-ec64315bd192",
   "metadata": {},
   "source": [
    "### Using LLM (OpenAI) with LangChain to summarise top three topics of topic model"
   ]
  },
  {
   "cell_type": "code",
   "execution_count": 255,
   "id": "693fa0d5-2bb9-447c-8af7-2f0a0f194321",
   "metadata": {},
   "outputs": [],
   "source": [
    "# Initialize the chat-based model\n",
    "llm = ChatOpenAI(model_name=\"gpt-3.5-turbo\")\n",
    "\n",
    "# Define the prompt template with SystemMessage and HumanMessage prompt templates\n",
    "prompt_template = ChatPromptTemplate(\n",
    "    input_variables=[\"tweets\"],\n",
    "    messages=[\n",
    "        SystemMessagePromptTemplate.from_template(\"You are a helpful assistant that summarizes the major themes of tweets into broad topic summaries.\"),\n",
    "        HumanMessagePromptTemplate.from_template(\"Summarize the following tweets into a coherent topic summary, describing the general themes of the tweets:\\n\\n{tweets}\\n\\nSummary:\")\n",
    "    ]\n",
    ")"
   ]
  },
  {
   "cell_type": "code",
   "execution_count": 256,
   "id": "90c5ce9a-331c-41e7-91ad-f8d4f66ac3df",
   "metadata": {},
   "outputs": [],
   "source": [
    "# Function to summarize the top three topics using ChatOpenAI\n",
    "def summarize_top_topics(model, top_topics, num_representative_docs=5):\n",
    "    summaries = {}\n",
    "    for topic in top_topics:\n",
    "        # Get representative tweets for the topic\n",
    "        representative_docs = model.get_representative_docs(topic)[:num_representative_docs]\n",
    "        \n",
    "        # Join tweets into a single string for summarization\n",
    "        tweets_text = \"\\n\".join(representative_docs)\n",
    "        \n",
    "        # Generate summary using ChatOpenAI\n",
    "        response = llm(prompt_template.format(tweets=tweets_text))\n",
    "        summary = response.content  # Extract the summary content\n",
    "        summaries[topic] = summary\n",
    "        print(f\"Topic {topic} Summary:\\n{summary}\\n\")  # Print only the content\n",
    "    \n"
   ]
  },
  {
   "cell_type": "code",
   "execution_count": 257,
   "id": "a9c5fb82-b28e-42fa-99dd-69c39ece2a6f",
   "metadata": {},
   "outputs": [
    {
     "name": "stdout",
     "output_type": "stream",
     "text": [
      "Topic 0 Summary:\n",
      "The general theme of the tweets is centered around politics, particularly discussing topics such as the Senate representation, political parties, and the current administration. There is also mention of news, media, and the impact of political decisions on various groups. The tweets reflect a mix of conservative and liberal viewpoints, as well as opinions on the current political climate in the USA.\n",
      "\n",
      "Topic 1 Summary:\n",
      "The general theme of the tweets is the impact of Russia's war on the International Space Station. There is discussion about the potential consequences of the conflict between Russia and Ukraine, with mentions of geopolitics, politics, and the role of various countries such as the USA, NATO, and China. The tweets also touch on concerns about the future of Ukraine, as well as the potential for military conflict and the implications for oil and gas politics.\n",
      "\n",
      "Topic 2 Summary:\n",
      "The general theme of the tweets is podcasts discussing various political topics and current events. The first tweet highlights an interview with Alderwoman Maria Hadden in Chicago, focusing on local politics and public policy. The second tweet mentions discussions about Trump campaign finances, Charlie Kirk's views on Ukraine, and Senator Tom Cotton's actions. The third tweet mentions a podcast episode discussing dating and politics. Overall, the tweets revolve around political commentary and analysis.\n",
      "\n"
     ]
    }
   ],
   "source": [
    "# Get the topic information from the citizen model\n",
    "citizen_topic_info = citizen_model.get_topic_info()\n",
    "\n",
    "# Get the top three topics, excluding outliers\n",
    "top_citizen_topics = citizen_topic_info[citizen_topic_info['Topic'] != -1].head(3)['Topic']\n",
    "\n",
    "# Generate summaries for the Citizen Topics\n",
    "citizen_summaries = summarize_top_topics(citizen_model, top_citizen_topics)"
   ]
  },
  {
   "cell_type": "code",
   "execution_count": 258,
   "id": "d92fe816-90f8-4bcb-98e6-372b74abb50c",
   "metadata": {},
   "outputs": [
    {
     "name": "stdout",
     "output_type": "stream",
     "text": [
      "Topic 0 Summary:\n",
      "The tweets discuss various nominations and appointments in the federal judiciary, including the nomination of Judge Neil Gorsuch to the United States Supreme Court and the status of Boggs' nomination. There is also mention of a water conservation act signed by Governor Mary Fallin in Oklahoma. The overall theme is related to government appointments and policies in the legal and environmental sectors.\n",
      "\n",
      "Topic 1 Summary:\n",
      "The tweets cover a range of topics including honoring the legacy of Cesar Chavez, a Twitter chat with Mayor Kenney, and a series of mentions of Representative Thomas Massie.\n",
      "\n",
      "Topic 2 Summary:\n",
      "The tweets discuss various government-related events, including a hearing on Trump's Treasury nominee Steven Mnuchin, a thank you message to Tom Rooney for blocking new regulations, and the launch of a review of juvenile justice in West Virginia by Governor Tomblin and the Intergovernmental Taskforce on Juvenile Justice.\n",
      "\n"
     ]
    }
   ],
   "source": [
    "# Get the topic information from the citizen model\n",
    "politician_topic_info = politician_model.get_topic_info()\n",
    "\n",
    "# Get the top three topics, excluding outliers\n",
    "top_politician_topics = politician_topic_info[politician_topic_info['Topic'] != -1].head(3)['Topic']\n",
    "\n",
    "# Generate summaries for the Citizen Topics\n",
    "politician_summaries = summarize_top_topics(politician_model, top_citizen_topics)"
   ]
  },
  {
   "cell_type": "markdown",
   "id": "f2f522e3-5bde-4333-8fdb-98ffb84b0048",
   "metadata": {},
   "source": [
    "### Building and evaluating a range of classifier models"
   ]
  },
  {
   "cell_type": "code",
   "execution_count": 259,
   "id": "e745f541-d8e8-4f2d-93b0-2745f2e60028",
   "metadata": {},
   "outputs": [],
   "source": [
    "# SSplit the UMAP-reduced data into training and testing sets\n",
    "X_train, X_test, y_train, y_test = train_test_split(X_umap, combined_tweets_df['label'], test_size=0.2, random_state=42)"
   ]
  },
  {
   "cell_type": "code",
   "execution_count": 260,
   "id": "b7d6fc6e-e52a-4e80-b342-a89149b7e3d8",
   "metadata": {},
   "outputs": [],
   "source": [
    "\n",
    "# Define classifiers to evaluate\n",
    "classifiers = {\n",
    "    \"Logistic Regression\": LogisticRegression(max_iter=1000),\n",
    "    \"SVM\": SVC(probability=True),\n",
    "    \"Random Forest\": RandomForestClassifier(),\n",
    "    \"Gradient Boosting\": GradientBoostingClassifier(),\n",
    "    \"KNN\": KNeighborsClassifier()\n",
    "}"
   ]
  },
  {
   "cell_type": "code",
   "execution_count": 261,
   "id": "8f58c7b9-d618-4fc3-8e09-c3d734566673",
   "metadata": {},
   "outputs": [
    {
     "name": "stdout",
     "output_type": "stream",
     "text": [
      "--- Logistic Regression ---\n",
      "AUC-ROC Score: 0.8993\n",
      "Accuracy: 0.8257\n",
      "Confusion Matrix:\n",
      "[[93 23]\n",
      " [15 87]]\n",
      "Classification Report:\n",
      "              precision    recall  f1-score   support\n",
      "\n",
      "           0       0.86      0.80      0.83       116\n",
      "           1       0.79      0.85      0.82       102\n",
      "\n",
      "    accuracy                           0.83       218\n",
      "   macro avg       0.83      0.83      0.83       218\n",
      "weighted avg       0.83      0.83      0.83       218\n",
      "\n",
      "\n",
      "\n",
      "--- SVM ---\n",
      "AUC-ROC Score: 0.9009\n",
      "Accuracy: 0.8440\n",
      "Confusion Matrix:\n",
      "[[95 21]\n",
      " [13 89]]\n",
      "Classification Report:\n",
      "              precision    recall  f1-score   support\n",
      "\n",
      "           0       0.88      0.82      0.85       116\n",
      "           1       0.81      0.87      0.84       102\n",
      "\n",
      "    accuracy                           0.84       218\n",
      "   macro avg       0.84      0.85      0.84       218\n",
      "weighted avg       0.85      0.84      0.84       218\n",
      "\n",
      "\n",
      "\n",
      "--- Random Forest ---\n",
      "AUC-ROC Score: 0.9160\n",
      "Accuracy: 0.8578\n",
      "Confusion Matrix:\n",
      "[[99 17]\n",
      " [14 88]]\n",
      "Classification Report:\n",
      "              precision    recall  f1-score   support\n",
      "\n",
      "           0       0.88      0.85      0.86       116\n",
      "           1       0.84      0.86      0.85       102\n",
      "\n",
      "    accuracy                           0.86       218\n",
      "   macro avg       0.86      0.86      0.86       218\n",
      "weighted avg       0.86      0.86      0.86       218\n",
      "\n",
      "\n",
      "\n",
      "--- Gradient Boosting ---\n",
      "AUC-ROC Score: 0.9042\n",
      "Accuracy: 0.8624\n",
      "Confusion Matrix:\n",
      "[[102  14]\n",
      " [ 16  86]]\n",
      "Classification Report:\n",
      "              precision    recall  f1-score   support\n",
      "\n",
      "           0       0.86      0.88      0.87       116\n",
      "           1       0.86      0.84      0.85       102\n",
      "\n",
      "    accuracy                           0.86       218\n",
      "   macro avg       0.86      0.86      0.86       218\n",
      "weighted avg       0.86      0.86      0.86       218\n",
      "\n",
      "\n",
      "\n",
      "--- KNN ---\n",
      "AUC-ROC Score: 0.8853\n",
      "Accuracy: 0.8303\n",
      "Confusion Matrix:\n",
      "[[99 17]\n",
      " [20 82]]\n",
      "Classification Report:\n",
      "              precision    recall  f1-score   support\n",
      "\n",
      "           0       0.83      0.85      0.84       116\n",
      "           1       0.83      0.80      0.82       102\n",
      "\n",
      "    accuracy                           0.83       218\n",
      "   macro avg       0.83      0.83      0.83       218\n",
      "weighted avg       0.83      0.83      0.83       218\n",
      "\n",
      "\n",
      "\n",
      "Summary of AUC-ROC Scores: {'Logistic Regression': 0.8992562542258282, 'SVM': 0.900946585530764, 'Random Forest': 0.9159905341446923, 'Gradient Boosting': 0.9042004732927653, 'KNN': 0.8852687626774848}\n"
     ]
    }
   ],
   "source": [
    "# Train and evaluate each classifier on the UMAP-reduced data\n",
    "results = {}\n",
    "\n",
    "for name, clf in classifiers.items():\n",
    "    clf.fit(X_train, y_train)\n",
    "    y_pred = clf.predict(X_test)\n",
    "    y_pred_probs = clf.predict_proba(X_test)[:, 1]  # Probability of class 1 for AUC-ROC\n",
    "\n",
    "    # Calculate metrics\n",
    "    auc_score = roc_auc_score(y_test, y_pred_probs)\n",
    "    accuracy = accuracy_score(y_test, y_pred)\n",
    "    conf_matrix = confusion_matrix(y_test, y_pred)\n",
    "    class_report = classification_report(y_test, y_pred)\n",
    "    \n",
    "    # Save results\n",
    "    results[name] = {\n",
    "        \"AUC-ROC\": auc_score,\n",
    "        \"Accuracy\": accuracy,\n",
    "        \"Confusion Matrix\": conf_matrix,\n",
    "        \"Classification Report\": class_report\n",
    "    }\n",
    "    \n",
    "    # Print results\n",
    "    print(f\"--- {name} ---\")\n",
    "    print(f\"AUC-ROC Score: {auc_score:.4f}\")\n",
    "    print(f\"Accuracy: {accuracy:.4f}\")\n",
    "    print(\"Confusion Matrix:\")\n",
    "    print(conf_matrix)\n",
    "    print(\"Classification Report:\")\n",
    "    print(class_report)\n",
    "    print(\"\\n\")\n",
    "\n",
    "# Summary of AUC-ROC scores for comparison\n",
    "print(\"Summary of AUC-ROC Scores:\", {name: results[name][\"AUC-ROC\"] for name in results})"
   ]
  },
  {
   "cell_type": "code",
   "execution_count": 262,
   "id": "dc4cbe94-fdb4-4109-a709-434671f911ad",
   "metadata": {},
   "outputs": [
    {
     "data": {
      "image/png": "[encoded data removed]",
      "text/plain": [
       "<Figure size 1000x800 with 1 Axes>"
      ]
     },
     "metadata": {},
     "output_type": "display_data"
    }
   ],
   "source": [
    "# Define a color palette\n",
    "colors = sns.color_palette(\"Set2\", 4)  # Choose \"Set2\" or any other palette you prefer\n",
    "\n",
    "# Prepare data for plotting\n",
    "metrics = [\"AUC-ROC\", \"Accuracy\", \"Precision\", \"Recall\"]\n",
    "models = list(results.keys())\n",
    "\n",
    "# Initialize lists for each metric\n",
    "auc_scores = []\n",
    "accuracies = []\n",
    "precisions = []\n",
    "recalls = []\n",
    "\n",
    "# Extract metrics for each model\n",
    "for model in models:\n",
    "    auc_scores.append(results[model][\"AUC-ROC\"])\n",
    "    accuracies.append(results[model][\"Accuracy\"])\n",
    "    \n",
    "    # Using y_pred from stored results instead of confusion matrix\n",
    "    y_pred = clf.predict(X_test)\n",
    "    \n",
    "    # Generate classification report as dictionary to get precision and recall\n",
    "    report_dict = classification_report(y_test, y_pred, output_dict=True)\n",
    "    \n",
    "    precisions.append(report_dict[\"weighted avg\"][\"precision\"])\n",
    "    recalls.append(report_dict[\"weighted avg\"][\"recall\"])\n",
    "\n",
    "# Define figure\n",
    "fig, ax = plt.subplots(figsize=(10, 8))\n",
    "\n",
    "# Set bar width\n",
    "bar_width = 0.2\n",
    "\n",
    "# Define positions for each set of bars\n",
    "x = np.arange(len(models))\n",
    "\n",
    "# Plot bars for each metric with the selected color palette\n",
    "bars1 = ax.barh(x - 1.5 * bar_width, auc_scores, height=bar_width, label=\"AUC-ROC\", color=colors[0])\n",
    "bars2 = ax.barh(x - 0.5 * bar_width, accuracies, height=bar_width, label=\"Accuracy\", color=colors[1])\n",
    "bars3 = ax.barh(x + 0.5 * bar_width, precisions, height=bar_width, label=\"Precision\", color=colors[2])\n",
    "bars4 = ax.barh(x + 1.5 * bar_width, recalls, height=bar_width, label=\"Recall\", color=colors[3])\n",
    "\n",
    "# Add the values at the end of each bar\n",
    "for bars in [bars1, bars2, bars3, bars4]:\n",
    "    for bar in bars:\n",
    "        ax.text(\n",
    "            bar.get_width() + 0.02,   # X-coordinate\n",
    "            bar.get_y() + bar.get_height()/2,   # Y-coordinate\n",
    "            f\"{bar.get_width():.2f}\",  # Text\n",
    "            ha='center', va='center'\n",
    "        )\n",
    "\n",
    "\n",
    "# Customize plot\n",
    "ax.set_xlabel(\"Score\")\n",
    "ax.set_yticks(x)\n",
    "ax.set_yticklabels(models)\n",
    "ax.set_title(\"Evaluation Metrics for Different Models\")\n",
    "ax.legend()\n",
    "plt.xlim(0, 1)\n",
    "plt.grid(True)\n",
    "plt.tight_layout()\n",
    "\n",
    "# Show plot\n",
    "plt.show()"
   ]
  },
  {
   "cell_type": "markdown",
   "id": "2323069e-73e6-4e91-9b12-36d80a0f7b4b",
   "metadata": {},
   "source": [
    "It looks like Gradient Boosting has emerged as the top-performing classifier in terms of both AUC-ROC score (0.9135) and accuracy (0.8394). This suggests that Gradient Boosting is well-suited for distinguishing between citizen and politician tweets based on the UMAP-reduced features.\n",
    "\n",
    "Here's a summary of the results:\n",
    "\n",
    "Gradient Boosting: Highest AUC-ROC score at 0.9135, with an accuracy of 0.8394. It performed particularly well in capturing the trade-off between sensitivity (recall) and specificity (precision), yielding balanced performance.\n",
    "\n",
    "Random Forest and Logistic Regression: Both achieved strong AUC-ROC scores just above 0.90, with Random Forest edging slightly higher. However, their accuracy and other metrics were slightly lower than Gradient Boosting.\n",
    "\n",
    "SVM: Achieved a competitive AUC-ROC score of 0.8955 with a slightly lower accuracy of 0.8303, indicating a solid overall performance. It demonstrated high precision for both classes, though slightly lower recall than Gradient Boosting.\n",
    "\n",
    "KNN: Although it has the lowest AUC-ROC score at 0.8420, it still provided acceptable results with an accuracy of 0.7661. This is typical for KNN, which may struggle with higher-dimensional data after UMAP reduction compared to other algorithms."
   ]
  },
  {
   "cell_type": "markdown",
   "id": "1cba1456-3400-4b81-ac4c-a04ded0363c9",
   "metadata": {},
   "source": [
    "### Fine tuning the GBM model with GridSearchCV and evaluating model using cross-validation"
   ]
  },
  {
   "cell_type": "code",
   "execution_count": 263,
   "id": "6711c091-f792-40b0-95a5-8cd867421152",
   "metadata": {},
   "outputs": [
    {
     "name": "stdout",
     "output_type": "stream",
     "text": [
      "Fitting 5 folds for each of 108 candidates, totalling 540 fits\n",
      "Best Parameters: {'learning_rate': 0.01, 'max_depth': 5, 'min_samples_split': 10, 'n_estimators': 150}\n",
      "Best Cross-Validated AUC-ROC Score: 0.9217\n"
     ]
    }
   ],
   "source": [
    "# Define parameter grid\n",
    "param_grid = {\n",
    "    'n_estimators': [50, 100, 150, 200],\n",
    "    'learning_rate': [0.01, 0.1, 0.2],\n",
    "    'max_depth': [3, 5, 7],\n",
    "    'min_samples_split': [2, 5, 10]\n",
    "}\n",
    "\n",
    "# Initialize Gradient Boosting model\n",
    "gbm = GradientBoostingClassifier(random_state=42)\n",
    "\n",
    "# Perform GridSearchCV to find the best hyperparameters\n",
    "grid_search = GridSearchCV(gbm, param_grid, scoring='roc_auc', cv=5, verbose=1)\n",
    "grid_search.fit(X_train, y_train)\n",
    "\n",
    "# Print the best parameters and the corresponding AUC-ROC score\n",
    "print(f\"Best Parameters: {grid_search.best_params_}\")\n",
    "print(f\"Best Cross-Validated AUC-ROC Score: {grid_search.best_score_:.4f}\")"
   ]
  },
  {
   "cell_type": "code",
   "execution_count": 264,
   "id": "116c8d82-241c-4ba6-bfe5-b88493dca789",
   "metadata": {},
   "outputs": [
    {
     "name": "stdout",
     "output_type": "stream",
     "text": [
      "Cross-Validated AUC-ROC Scores: [0.90945911 0.913052   0.92524785 0.93875529 0.9221723 ]\n",
      "Mean AUC-ROC: 0.9217\n"
     ]
    }
   ],
   "source": [
    "# Cross-validation using the best estimator\n",
    "best_gbm = grid_search.best_estimator_\n",
    "cv_scores = cross_val_score(best_gbm, X_train, y_train, cv=5, scoring='roc_auc')\n",
    "print(f\"Cross-Validated AUC-ROC Scores: {cv_scores}\")\n",
    "print(f\"Mean AUC-ROC: {cv_scores.mean():.4f}\")"
   ]
  },
  {
   "cell_type": "code",
   "execution_count": 265,
   "id": "3e33353f-1d6d-4e4f-a4e8-12c50de78d68",
   "metadata": {},
   "outputs": [
    {
     "data": {
      "image/png": "[encoded data removed]",
      "text/plain": [
       "<Figure size 1000x600 with 1 Axes>"
      ]
     },
     "metadata": {},
     "output_type": "display_data"
    }
   ],
   "source": [
    "# Plotting the bar chart using the cv_scores\n",
    "plt.figure(figsize=(10, 6))\n",
    "plt.bar(range(1, len(cv_scores) + 1), cv_scores, color='skyblue')\n",
    "plt.xlabel('Cross-Validation Fold')\n",
    "plt.ylabel('AUC-ROC Score')\n",
    "plt.title('Cross-Validation AUC-ROC Scores for Gradient Boosting')\n",
    "plt.ylim(min(cv_scores) - 0.02, max(cv_scores) + 0.02)  # Set y-axis slightly beyond min/max for better visualization\n",
    "plt.xticks(range(1, len(cv_scores) + 1))\n",
    "plt.show()"
   ]
  },
  {
   "cell_type": "markdown",
   "id": "075f3c9a-d9e5-44a0-a900-93796f4c29ea",
   "metadata": {},
   "source": [
    "### Using our fine-tuned GBM model to predict classification (citizen vs. politician) of a Tweet."
   ]
  },
  {
   "cell_type": "code",
   "execution_count": 266,
   "id": "042db263-9e7f-4860-aedd-11ca26f0e20e",
   "metadata": {},
   "outputs": [],
   "source": [
    "# Function to classify a new tweet\n",
    "def classify_tweet(tweet_text):\n",
    "    \"\"\"\n",
    "    Classify a tweet as either 'politician' or 'citizen' and provide model confidence.\n",
    "    \n",
    "    Parameters:\n",
    "        tweet_text (str): The tweet text input by the user.\n",
    "    \n",
    "    Returns:\n",
    "        str: Predicted label (Citizen or Politician) with confidence score.\n",
    "    \"\"\"\n",
    "    # Encode the tweet using the pre-trained BERT model\n",
    "    tweet_embedding = transformer_model.encode([tweet_text])\n",
    "    \n",
    "    # Apply the trained UMAP model for dimensionality reduction\n",
    "    tweet_umap = umap_model.transform(tweet_embedding)\n",
    "    \n",
    "    # Predict the class label and confidence using the trained classifier\n",
    "    pred_prob = best_gbm.predict_proba(tweet_umap)\n",
    "    pred_label = best_gbm.predict(tweet_umap)[0]\n",
    "    pred_confidence = pred_prob[0][pred_label]\n",
    "    label_name = \"Politician\" if pred_label == 1 else \"Citizen\"\n",
    "    \n",
    "    # Print the result\n",
    "    print(f\"Predicted as: {label_name} with {pred_confidence * 100:.2f}% confidence.\")\n",
    "    \n",
    "    return label_name, pred_confidence"
   ]
  },
  {
   "cell_type": "code",
   "execution_count": 267,
   "id": "1dbb5ca5-28ad-4116-9f87-64f416522c4a",
   "metadata": {},
   "outputs": [
    {
     "name": "stdin",
     "output_type": "stream",
     "text": [
      "Enter a tweet:  We can do better as a society, we can make the tough decisions and work towards a better future\n"
     ]
    },
    {
     "name": "stdout",
     "output_type": "stream",
     "text": [
      "Predicted as: Politician with 86.46% confidence.\n"
     ]
    }
   ],
   "source": [
    "# Example usage\n",
    "tweet_text = input(\"Enter a tweet: \")\n",
    "label, confidence = classify_tweet(tweet_text)"
   ]
  },
  {
   "cell_type": "code",
   "execution_count": null,
   "id": "da1cb721-34af-4685-be59-0a828c186d3b",
   "metadata": {},
   "outputs": [],
   "source": []
  }
 ],
 "metadata": {
  "kernelspec": {
   "display_name": "Python 3 (ipykernel)",
   "language": "python",
   "name": "python3"
  },
  "language_info": {
   "codemirror_mode": {
    "name": "ipython",
    "version": 3
   },
   "file_extension": ".py",
   "mimetype": "text/x-python",
   "name": "python",
   "nbconvert_exporter": "python",
   "pygments_lexer": "ipython3",
   "version": "3.11.5"
  }
 },
 "nbformat": 4,
 "nbformat_minor": 5
}
